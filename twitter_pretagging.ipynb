{
  "nbformat": 4,
  "nbformat_minor": 0,
  "metadata": {
    "colab": {
      "name": "twitter-pretagging",
      "provenance": [],
      "collapsed_sections": [
        "aEVa39Xe5ogc"
      ],
      "authorship_tag": "ABX9TyPOjqw/MTHB4/GtDAZbJeNw",
      "include_colab_link": true
    },
    "kernelspec": {
      "name": "python3",
      "display_name": "Python 3"
    }
  },
  "cells": [
    {
      "cell_type": "markdown",
      "metadata": {
        "id": "view-in-github",
        "colab_type": "text"
      },
      "source": [
        "<a href=\"https://colab.research.google.com/github/dieko95/blackouts-C4V/blob/diego-first-iter/twitter_pretagging.ipynb\" target=\"_parent\"><img src=\"https://colab.research.google.com/assets/colab-badge.svg\" alt=\"Open In Colab\"/></a>"
      ]
    },
    {
      "cell_type": "markdown",
      "metadata": {
        "id": "nYeFRTD02JJd",
        "colab_type": "text"
      },
      "source": [
        "# Automated Tagging"
      ]
    },
    {
      "cell_type": "markdown",
      "metadata": {
        "id": "rPjvaTP1pN6_",
        "colab_type": "text"
      },
      "source": [
        "## Libraries\n",
        "\n"
      ]
    },
    {
      "cell_type": "code",
      "metadata": {
        "id": "YESX9HG2pMWC",
        "colab_type": "code",
        "colab": {}
      },
      "source": [
        "from google.colab import auth\n",
        "import gspread\n",
        "from oauth2client.client import GoogleCredentials\n",
        "import pandas as pd"
      ],
      "execution_count": 0,
      "outputs": []
    },
    {
      "cell_type": "markdown",
      "metadata": {
        "id": "tUGVhRHs5OZn",
        "colab_type": "text"
      },
      "source": [
        "## Accessing Data"
      ]
    },
    {
      "cell_type": "code",
      "metadata": {
        "id": "tZLjkEIzfBjf",
        "colab_type": "code",
        "colab": {}
      },
      "source": [
        "## Installing package to access\n",
        "!pip install --upgrade -q google-auth\n",
        "!pip install --upgrade -q gspread\n",
        "\n",
        "# For better visualization of text in Pandas DF\n",
        "pd.set_option('display.max_colwidth', None)"
      ],
      "execution_count": 0,
      "outputs": []
    },
    {
      "cell_type": "code",
      "metadata": {
        "id": "feyaLh-5fBi5",
        "colab_type": "code",
        "colab": {}
      },
      "source": [
        "# Authentication to access the untagged spreadhseet\n",
        "auth.authenticate_user()\n",
        "\n",
        "# Authenticating to open google sheets\n",
        "gc = gspread.authorize(GoogleCredentials.get_application_default())\n",
        "\n",
        "# Open File's sheet 1\n",
        "worksheet = gc.open('Training Set - #SinLuz Country Classifier').sheet1\n",
        "\n",
        "# get_all_values gives a list of rows.\n",
        "rows = worksheet.get_all_values()"
      ],
      "execution_count": 0,
      "outputs": []
    },
    {
      "cell_type": "code",
      "metadata": {
        "id": "SqxBPHjCfJP0",
        "colab_type": "code",
        "colab": {}
      },
      "source": [
        "# Convert to a DataFrame and render.\n",
        "\n",
        "tagOriginalDf = pd.DataFrame(rows)\n",
        "\n",
        "# First row has the column names\n",
        "  # Rename columns\n",
        "tagOriginalDf.columns = tagOriginalDf.iloc[0,:]\n",
        "\n",
        "# Drop Columns\n",
        "tagOriginalDf = tagOriginalDf.drop(index = 0)"
      ],
      "execution_count": 0,
      "outputs": []
    },
    {
      "cell_type": "code",
      "metadata": {
        "id": "4um0LanSXAPu",
        "colab_type": "code",
        "outputId": "9f3e45fc-e463-4e67-a084-a5132352c90a",
        "colab": {
          "base_uri": "https://localhost:8080/",
          "height": 34
        }
      },
      "source": [
        "# Mount Drive\n",
        "from google.colab import drive\n",
        "drive.mount('/content/drive')"
      ],
      "execution_count": 5,
      "outputs": [
        {
          "output_type": "stream",
          "text": [
            "Drive already mounted at /content/drive; to attempt to forcibly remount, call drive.mount(\"/content/drive\", force_remount=True).\n"
          ],
          "name": "stdout"
        }
      ]
    },
    {
      "cell_type": "code",
      "metadata": {
        "id": "rN37zlHcfbj0",
        "colab_type": "code",
        "colab": {}
      },
      "source": [
        "# Corresponding Section\n",
        "tags_df = tagOriginalDf.iloc[6001:8499,:].copy()\n",
        "\n",
        "# Tagged Tweets\n",
        "pre_tag_df = tags_df[['full_text','concat_text_user_description', 'label_country', 'label_state', 'label_type']].iloc[:271,:].copy()\n",
        "\n",
        "# Tweets to tag\n",
        "to_tag_df = tags_df[['full_text','concat_text_user_description', 'label_country', 'label_state', 'label_type']].iloc[271:,:].copy()"
      ],
      "execution_count": 0,
      "outputs": []
    },
    {
      "cell_type": "markdown",
      "metadata": {
        "id": "aROWrNLK52aq",
        "colab_type": "text"
      },
      "source": [
        "## Cleaning Text"
      ]
    },
    {
      "cell_type": "code",
      "metadata": {
        "id": "6ec-4OIX6BAi",
        "colab_type": "code",
        "colab": {}
      },
      "source": [
        "def cleaner(df,text_col):\n",
        "  # to lower\n",
        "\n",
        "  df[text_col] = df[text_col].str.lower()\n",
        "\n",
        "  # Convert common spanish accents\n",
        "\n",
        "  df[text_col] = df[text_col].str.replace(\"ú\", \"u\")\n",
        "  df[text_col] = df[text_col].str.replace(\"ù\", \"u\")\n",
        "  df[text_col] = df[text_col].str.replace(\"ü\", \"u\")\n",
        "  df[text_col] = df[text_col].str.replace(\"ó\", \"o\")\n",
        "  df[text_col] = df[text_col].str.replace(\"ò\", \"o\")\n",
        "  df[text_col] = df[text_col].str.replace(\"í\", \"i\")\n",
        "  df[text_col] = df[text_col].str.replace(\"ì\", \"i\")\n",
        "  df[text_col] = df[text_col].str.replace(\"é\", \"e\")\n",
        "  df[text_col] = df[text_col].str.replace(\"è\", \"e\")\n",
        "  df[text_col] = df[text_col].str.replace(\"á\", \"a\")\n",
        "  df[text_col] = df[text_col].str.replace(\"à\", \"a\")\n",
        "  df[text_col] = df[text_col].str.replace(\"ñ\", \"gn\")\n",
        "\n",
        "  return df\n",
        "\n",
        "\n",
        "to_tag_df = cleaner(to_tag_df, 'concat_text_user_description')\n",
        "to_tag_df = cleaner(to_tag_df, 'full_text')"
      ],
      "execution_count": 0,
      "outputs": []
    },
    {
      "cell_type": "markdown",
      "metadata": {
        "id": "EtogO9m3jv2n",
        "colab_type": "text"
      },
      "source": [
        "## Functions \n",
        "\n",
        "- Classify label_type (service reported)\n",
        "  - Extracting pound signs (\\#)\n",
        "- Classify Country\n",
        "  - Matches any state? \n",
        "  - has keyword 'edo' or 'estado' in it?\n",
        "  - Follows any of the common accounts?\n",
        "- Classify State\n",
        "  - Match with list of venezuela states\n",
        "  - We can use a list of venezuelan cities as well "
      ]
    },
    {
      "cell_type": "markdown",
      "metadata": {
        "id": "uJQo6Q725duV",
        "colab_type": "text"
      },
      "source": [
        "### Classifying Label Type"
      ]
    },
    {
      "cell_type": "markdown",
      "metadata": {
        "id": "aEVa39Xe5ogc",
        "colab_type": "text"
      },
      "source": [
        "#### Hashtags\n",
        "\n",
        "* \\#SinLuz\n",
        "\n",
        "\n",
        "\n",
        "\n"
      ]
    },
    {
      "cell_type": "code",
      "metadata": {
        "id": "QOMhF-6eCFxY",
        "colab_type": "code",
        "colab": {}
      },
      "source": [
        "import re\n",
        "\n",
        "# sinluz         670\n",
        "# ahora           68\n",
        "# sinagua         66\n",
        "# apagon          65\n",
        "# singasolina     53\n",
        "\n",
        "hashtags = pd.Series(re.findall('#(\\w+)', to_tag_df.concat_text_user_description.to_string())).copy()\n",
        "\n",
        "# hashtags.value_counts()[hashtags.value_counts() > 10]\n",
        "\n",
        "# hashtags[hashtags == 'sinl']\n",
        "\n"
      ],
      "execution_count": 0,
      "outputs": []
    },
    {
      "cell_type": "markdown",
      "metadata": {
        "id": "clJfc4I_vpdH",
        "colab_type": "text"
      },
      "source": [
        "### Tagging Country\n",
        "\n",
        "  - Matches any state? \n",
        "  - has keyword 'edo' or 'estado' in it?\n",
        "  - Follows any of the common accounts?\n",
        "\n",
        "*Notes*\n",
        "  - For this section I will use the tweet's original text. If I include the user description it can add noise because a user can be reporting about a power outage of another state (e.g., I'm from caracas and reporting a power outage in Zulia)\n",
        "  "
      ]
    },
    {
      "cell_type": "code",
      "metadata": {
        "id": "LXRzNfuXGk-G",
        "colab_type": "code",
        "outputId": "70fd279d-42d9-4dcc-f70b-de7e3c231bc1",
        "colab": {
          "base_uri": "https://localhost:8080/",
          "height": 34
        }
      },
      "source": [
        "# Read csv with Venezuela's administrative distribution\n",
        "geo_df = pd.read_csv('/content/drive/My Drive/monitor_ciudad/cod.csv')\n",
        "\n",
        "# Clean Columns\n",
        "cols = ['parroquia', 'nombrepob', 'estado','nom_mun']\n",
        "\n",
        "for col in cols:\n",
        "  geo_df = cleaner(geo_df, col)\n",
        "\n",
        "# # Unique pob name\n",
        "#   # CHECK ENCODING ERROR WITH JESUS  car�pano\n",
        "# # geo_df.nombrepob.unique()\n",
        "\n",
        "state = geo_df.estado.unique().tolist()\n",
        "\n",
        "muni = geo_df.nom_mun.unique().tolist()\n",
        "\n",
        "\n",
        "indices = to_tag_df.concat_text_user_description.str.contains('|'.join(state), case = False) # 6754\n",
        "\n",
        "indices = to_tag_df.concat_text_user_description.str.contains('\\sedo', case = False)\n",
        "\n",
        "## View results\n",
        "to_tag_df[indices]\n",
        "\n",
        "## Tag Venezuela \n",
        "to_tag_df.loc[indices,'label_country'] = 'venezuela'\n",
        "\n",
        "_multiple = []\n",
        "for index,row in to_tag_df.loc[to_tag_df.label_country == 'venezuela', 'full_text'].iteritems():\n",
        "  _lst = []\n",
        "\n",
        "  for state_name in state:\n",
        "    if state_name in row:\n",
        "      _lst.append(1)\n",
        "      if len(_lst) > 1:\n",
        "        _multiple.append(index)\n",
        "      else:\n",
        "        next\n",
        "      # print(len(_lst), '------', index)\n",
        "    else:\n",
        "      next\n",
        "\n",
        "print(_multiple)\n",
        "\n",
        "\n",
        "# Quality Control \n",
        "\n",
        "\n",
        "\n",
        "# tst = 'Todavía #SinLuz y son las 6:30  pm nueve horas sin luz en San Cristóbal  estado tachira sector los #kioskos #SinLuz vía seguro social exigimos el servicio ya dejen la burla y el cinismo al pueblo hijos de putas @CORPOELECinfo @corpoelectachir @NicolasMaduro @dcabellor \"Luis Suarez\" \"LuisSua45172692\" \"soy abogado egresado de la universidad Javeriana de Bogotá Colombia  especialista en derecho internacional\"'\n",
        "# tst = cleaner(pd.DataFrame({'col':[tst]}), 'col').to_string()\n",
        "# # If there's more than one element in state then it's multiple\n",
        "# for i in state:\n",
        "  # if i in tst:\n",
        "  #   print(i)\n",
        "  # else:\n",
        "  #   next\n",
        "\n",
        "\n"
      ],
      "execution_count": 61,
      "outputs": [
        {
          "output_type": "stream",
          "text": [
            "[7724, 7791, 8011, 8122, 8122, 8122, 8153]\n"
          ],
          "name": "stdout"
        }
      ]
    },
    {
      "cell_type": "markdown",
      "metadata": {
        "id": "fjSzeAw-8n_p",
        "colab_type": "text"
      },
      "source": [
        "#### Municipality"
      ]
    },
    {
      "cell_type": "code",
      "metadata": {
        "id": "qF_-hJy-8cvm",
        "colab_type": "code",
        "colab": {}
      },
      "source": [
        "\n",
        "## There's a municipality called\n",
        "  # Democracy \n",
        "\n",
        "# indices = to_tag_df.concat_text_user_description.str.contains('|'.join(muni), case = False) # 6754\n",
        "\n",
        "# to_tag_df[indices]"
      ],
      "execution_count": 0,
      "outputs": []
    },
    {
      "cell_type": "code",
      "metadata": {
        "id": "59pCEiIMjYuQ",
        "colab_type": "code",
        "colab": {}
      },
      "source": [
        "# 653 tweets with hashtags Out of 2228 tweets\n",
        "\n",
        "\n",
        "\n",
        "indices = to_tag_df.concat_text_user_description.str.contains('venezuela', case = False) # 6754\n",
        "\n",
        "to_tag_df[indices]"
      ],
      "execution_count": 0,
      "outputs": []
    },
    {
      "cell_type": "code",
      "metadata": {
        "id": "-b9rpo0XsdiY",
        "colab_type": "code",
        "colab": {}
      },
      "source": [
        ""
      ],
      "execution_count": 0,
      "outputs": []
    }
  ]
}