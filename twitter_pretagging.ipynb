{
 "cells": [
  {
   "cell_type": "markdown",
   "metadata": {
    "colab_type": "text",
    "id": "view-in-github"
   },
   "source": [
    "<a href=\"https://colab.research.google.com/github/dieko95/blackouts-C4V/blob/master/twitter_pretagging.ipynb\" target=\"_parent\"><img src=\"https://colab.research.google.com/assets/colab-badge.svg\" alt=\"Open In Colab\"/></a>"
   ]
  },
  {
   "cell_type": "markdown",
   "metadata": {
    "colab_type": "text",
    "id": "nYeFRTD02JJd"
   },
   "source": [
    "# Training Dataset Creation - Tagging \n",
    "\n",
    "This notebook aims to create the dataset for Code for Venezuela's Blackout Project. \n",
    "\n",
    "This dataset is going to be consumed by an ML model that will aim to predict: \n",
    "\n",
    "- If a tweet is from Venezuela\n",
    "- If so from which state(s) \n",
    "- About what public service the user is reporting (sinluz)\n",
    "\n"
   ]
  },
  {
   "cell_type": "markdown",
   "metadata": {
    "colab_type": "text",
    "id": "rPjvaTP1pN6_"
   },
   "source": [
    "## Libraries\n",
    "\n"
   ]
  },
  {
   "cell_type": "code",
   "execution_count": null,
   "metadata": {
    "colab": {},
    "colab_type": "code",
    "id": "YESX9HG2pMWC"
   },
   "outputs": [],
   "source": [
    "import pandas as pd\n",
    "import re\n",
    "\n",
    "# For better visualization of text in Pandas DF\n",
    "pd.set_option('display.max_colwidth', None)"
   ]
  },
  {
   "cell_type": "markdown",
   "metadata": {
    "colab_type": "text",
    "id": "tUGVhRHs5OZn"
   },
   "source": [
    "## Accessing Data\n",
    "\n",
    "The untagged dataset originates from scraped tweets by Code For Venezuela's Angostura ETL. A subset of tweets (11,000) was queried from the etl in order for them to be tagged. The first 4,000 tweets have already been tagged. "
   ]
  },
  {
   "cell_type": "code",
   "execution_count": null,
   "metadata": {
    "colab": {},
    "colab_type": "code",
    "id": "rN37zlHcfbj0"
   },
   "outputs": [],
   "source": [
    "# Read CSV \n",
    "tags_df = pd.read_csv('tagging-set-original_for_jupyter_tagging.csv')\n",
    "\n",
    "\n",
    "\n",
    "# Fill Nas in label_country to 0\n",
    "tags_df.label_country.fillna('0', \n",
    "                             inplace = True)\n",
    "\n",
    "\n",
    "# Tagged Tweets\n",
    "pre_tag_df = tags_df[(tags_df.label_country != '0')].copy()\n",
    "\n",
    "\n",
    "# Tweets to tag\n",
    "to_tag_df = tags_df[~tags_df.index.isin(tags_df[(tags_df.label_country != '0')].index)].copy()"
   ]
  },
  {
   "cell_type": "markdown",
   "metadata": {
    "colab_type": "text",
    "id": "aROWrNLK52aq"
   },
   "source": [
    "## Cleaning Text\n",
    "\n",
    "This is a helper function to quickly clean text.\n",
    "\n",
    "- Converts all text to low caps. \n",
    "- Strips all spanish accents\n",
    "\n",
    "Pending:\n",
    "\n",
    "- Strip dots and links (@ and # must remain) "
   ]
  },
  {
   "cell_type": "code",
   "execution_count": null,
   "metadata": {
    "colab": {},
    "colab_type": "code",
    "id": "6ec-4OIX6BAi"
   },
   "outputs": [],
   "source": [
    "def cleaner(df,text_col):\n",
    "  # to lower\n",
    "\n",
    "  df[text_col] = df[text_col].str.lower()\n",
    "\n",
    "  # Convert common spanish accents\n",
    "\n",
    "  df[text_col] = df[text_col].str.replace(\"ú\", \"u\")\n",
    "  df[text_col] = df[text_col].str.replace(\"ù\", \"u\")\n",
    "  df[text_col] = df[text_col].str.replace(\"ü\", \"u\")\n",
    "  df[text_col] = df[text_col].str.replace(\"ó\", \"o\")\n",
    "  df[text_col] = df[text_col].str.replace(\"ò\", \"o\")\n",
    "  df[text_col] = df[text_col].str.replace(\"í\", \"i\")\n",
    "  df[text_col] = df[text_col].str.replace(\"ì\", \"i\")\n",
    "  df[text_col] = df[text_col].str.replace(\"é\", \"e\")\n",
    "  df[text_col] = df[text_col].str.replace(\"è\", \"e\")\n",
    "  df[text_col] = df[text_col].str.replace(\"á\", \"a\")\n",
    "  df[text_col] = df[text_col].str.replace(\"à\", \"a\")\n",
    "  df[text_col] = df[text_col].str.replace(\"ñ\", \"gn\")\n",
    "\n",
    "  return df\n",
    "\n",
    "\n",
    "to_tag_df = cleaner(to_tag_df, 'concat_text_user_description')\n",
    "to_tag_df = cleaner(to_tag_df, 'full_text')"
   ]
  },
  {
   "cell_type": "markdown",
   "metadata": {
    "colab_type": "text",
    "id": "EtogO9m3jv2n"
   },
   "source": [
    "## Sections to Tag \n",
    "\n",
    "- Tag label_type (service reported)\n",
    "  - Extracting pound signs (\\#)\n",
    "\n",
    "- Tag Country\n",
    "  - Matches any state? \n",
    "  - has keyword 'edo' or 'estado' in it?\n",
    "  - Follows any of the common accounts?\n",
    "- Tag State\n",
    "  - Match with list of venezuela states\n",
    "  - We can use a list of venezuelan cities as well "
   ]
  },
  {
   "cell_type": "markdown",
   "metadata": {
    "colab_type": "text",
    "id": "uJQo6Q725duV"
   },
   "source": [
    "### Classifying Label Type"
   ]
  },
  {
   "cell_type": "markdown",
   "metadata": {
    "colab_type": "text",
    "id": "aEVa39Xe5ogc"
   },
   "source": [
    "#### Hashtags\n",
    "\n",
    "* \\#SinLuz\n",
    "\n",
    "\n",
    "\n",
    "\n"
   ]
  },
  {
   "cell_type": "code",
   "execution_count": null,
   "metadata": {
    "colab": {},
    "colab_type": "code",
    "id": "QOMhF-6eCFxY"
   },
   "outputs": [],
   "source": []
  },
  {
   "cell_type": "markdown",
   "metadata": {
    "colab_type": "text",
    "id": "clJfc4I_vpdH"
   },
   "source": [
    "### Tagging Country\n",
    "\n",
    "  - Matches any state? \n",
    "  - has keyword 'edo' or 'estado' in it?\n",
    "  - Follows any of the common accounts?\n",
    "\n",
    "*Notes*\n",
    "  - For this section I will use the tweet's original text. If I include the user description it can add noise because a user can be reporting about a power outage of another state (e.g., I'm from caracas and reporting a power outage in Zulia)\n",
    "  "
   ]
  },
  {
   "cell_type": "code",
   "execution_count": null,
   "metadata": {
    "colab": {},
    "colab_type": "code",
    "id": "LXRzNfuXGk-G"
   },
   "outputs": [],
   "source": []
  },
  {
   "cell_type": "markdown",
   "metadata": {
    "colab_type": "text",
    "id": "VMZGyQZR0cmE"
   },
   "source": [
    "## Tagging State"
   ]
  },
  {
   "cell_type": "markdown",
   "metadata": {
    "colab_type": "text",
    "id": "_sEMAHvA3ToW"
   },
   "source": [
    "\n",
    "Incluimos cuentas que reportan a nivel nacional? Es ruido porque lo que hacen es repetir lo que otros usuarios dicen? O captura señal porque son reportes de fallas de luz?\n",
    "\n",
    "~~~\n",
    "print(tags_df.loc[8122,'full_text'])\n",
    "\n",
    "#Ahora Reportan más zonas #SinLuz: \n",
    "\n",
    "Catia, Distrito Capital ❌💡\n",
    "Guatire y Guarenas, Edo. Miranda ❌💡\n",
    "Estado Mérida ❌💡\n",
    "Estado Aragua ❌💡\n",
    "\n",
    "Comenta si hay fallas en tu zona #2Oct\n",
    "\n",
    "~~~"
   ]
  },
  {
   "cell_type": "code",
   "execution_count": null,
   "metadata": {
    "colab": {},
    "colab_type": "code",
    "id": "3yimdsAJVOBU"
   },
   "outputs": [],
   "source": []
  },
  {
   "cell_type": "code",
   "execution_count": null,
   "metadata": {},
   "outputs": [],
   "source": []
  }
 ],
 "metadata": {
  "colab": {
   "authorship_tag": "ABX9TyNJPUq9/cNQAl7rc9HUJAWO",
   "collapsed_sections": [],
   "include_colab_link": true,
   "name": "twitter-pretagging",
   "private_outputs": true,
   "provenance": [],
   "toc_visible": true
  },
  "kernelspec": {
   "display_name": "Python 3",
   "language": "python",
   "name": "python3"
  },
  "language_info": {
   "codemirror_mode": {
    "name": "ipython",
    "version": 3
   },
   "file_extension": ".py",
   "mimetype": "text/x-python",
   "name": "python",
   "nbconvert_exporter": "python",
   "pygments_lexer": "ipython3",
   "version": "3.7.3"
  },
  "toc": {
   "base_numbering": 1,
   "nav_menu": {},
   "number_sections": true,
   "sideBar": true,
   "skip_h1_title": false,
   "title_cell": "Table of Contents",
   "title_sidebar": "Contents",
   "toc_cell": false,
   "toc_position": {},
   "toc_section_display": true,
   "toc_window_display": false
  },
  "varInspector": {
   "cols": {
    "lenName": 16,
    "lenType": 16,
    "lenVar": 40
   },
   "kernels_config": {
    "python": {
     "delete_cmd_postfix": "",
     "delete_cmd_prefix": "del ",
     "library": "var_list.py",
     "varRefreshCmd": "print(var_dic_list())"
    },
    "r": {
     "delete_cmd_postfix": ") ",
     "delete_cmd_prefix": "rm(",
     "library": "var_list.r",
     "varRefreshCmd": "cat(var_dic_list()) "
    }
   },
   "types_to_exclude": [
    "module",
    "function",
    "builtin_function_or_method",
    "instance",
    "_Feature"
   ],
   "window_display": false
  }
 },
 "nbformat": 4,
 "nbformat_minor": 1
}
