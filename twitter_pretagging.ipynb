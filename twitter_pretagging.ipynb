{
  "nbformat": 4,
  "nbformat_minor": 0,
  "metadata": {
    "colab": {
      "name": "twitter-pretagging",
      "provenance": [],
      "collapsed_sections": [],
      "toc_visible": true,
      "authorship_tag": "ABX9TyPt2UO62phN/lGX0RczE94E",
      "include_colab_link": true
    },
    "kernelspec": {
      "name": "python3",
      "display_name": "Python 3"
    }
  },
  "cells": [
    {
      "cell_type": "markdown",
      "metadata": {
        "id": "view-in-github",
        "colab_type": "text"
      },
      "source": [
        "<a href=\"https://colab.research.google.com/github/dieko95/blackouts-C4V/blob/diego-first-iter/twitter_pretagging.ipynb\" target=\"_parent\"><img src=\"https://colab.research.google.com/assets/colab-badge.svg\" alt=\"Open In Colab\"/></a>"
      ]
    },
    {
      "cell_type": "markdown",
      "metadata": {
        "id": "nYeFRTD02JJd",
        "colab_type": "text"
      },
      "source": [
        "# Training Dataset Creation - Tagging \n",
        "\n",
        "This notebook aims to create the dataset for Code for Venezuela's Blackout Project. \n",
        "\n",
        "This dataset is going to be consumed by an ML model that will aim to predict: \n",
        "\n",
        "- If a tweet is from Venezuela\n",
        "- If so from which state(s) \n",
        "- About what public service the user is reporting (sinluz)\n",
        "\n"
      ]
    },
    {
      "cell_type": "markdown",
      "metadata": {
        "id": "rPjvaTP1pN6_",
        "colab_type": "text"
      },
      "source": [
        "## Libraries\n",
        "\n"
      ]
    },
    {
      "cell_type": "code",
      "metadata": {
        "id": "YESX9HG2pMWC",
        "colab_type": "code",
        "colab": {}
      },
      "source": [
        "import pandas as pd\n",
        "import re\n",
        "\n",
        "# For better visualization of text in Pandas DF\n",
        "pd.set_option('display.max_colwidth', None)"
      ],
      "execution_count": 0,
      "outputs": []
    },
    {
      "cell_type": "markdown",
      "metadata": {
        "id": "tUGVhRHs5OZn",
        "colab_type": "text"
      },
      "source": [
        "## Accessing Data\n",
        "\n",
        "The untagged dataset originates from scraped tweets by Code For Venezuela's Angostura ETL. A subset of tweets (11,000) was queried from the etl in order for them to be tagged. The first 4,000 tweets have already been tagged. "
      ]
    },
    {
      "cell_type": "code",
      "metadata": {
        "id": "rN37zlHcfbj0",
        "colab_type": "code",
        "colab": {}
      },
      "source": [
        "# Read CSV from github \n",
        "tagOriginalDf = pd.read_csv('https://raw.githubusercontent.com/dieko95/blackouts-C4V/diego-first-iter/tagging-set-original_for_jupyter_tagging.csv')\n",
        "\n",
        "# Corresponding Section\n",
        "tags_df = tagOriginalDf.iloc[6001:8499,:].copy()\n",
        "\n",
        "# Tagged Tweets\n",
        "pre_tag_df = tags_df[['full_text','concat_text_user_description', 'label_country', 'label_state', 'label_type']].iloc[:271,:].copy()\n",
        "\n",
        "# Tweets to tag\n",
        "to_tag_df = tags_df[['full_text','concat_text_user_description', 'label_country', 'label_state', 'label_type']].iloc[271:,:].copy()"
      ],
      "execution_count": 0,
      "outputs": []
    },
    {
      "cell_type": "markdown",
      "metadata": {
        "id": "aROWrNLK52aq",
        "colab_type": "text"
      },
      "source": [
        "## Cleaning Text\n",
        "\n",
        "This is a helper function to quickly clean text.\n",
        "\n",
        "- Converts all text to low caps. \n",
        "- Strips all spanish accents\n",
        "\n",
        "Pending:\n",
        "\n",
        "- Strip dots and links (@ and # must remain) "
      ]
    },
    {
      "cell_type": "code",
      "metadata": {
        "id": "6ec-4OIX6BAi",
        "colab_type": "code",
        "colab": {}
      },
      "source": [
        "def cleaner(df,text_col):\n",
        "  # to lower\n",
        "\n",
        "  df[text_col] = df[text_col].str.lower()\n",
        "\n",
        "  # Convert common spanish accents\n",
        "\n",
        "  df[text_col] = df[text_col].str.replace(\"ú\", \"u\")\n",
        "  df[text_col] = df[text_col].str.replace(\"ù\", \"u\")\n",
        "  df[text_col] = df[text_col].str.replace(\"ü\", \"u\")\n",
        "  df[text_col] = df[text_col].str.replace(\"ó\", \"o\")\n",
        "  df[text_col] = df[text_col].str.replace(\"ò\", \"o\")\n",
        "  df[text_col] = df[text_col].str.replace(\"í\", \"i\")\n",
        "  df[text_col] = df[text_col].str.replace(\"ì\", \"i\")\n",
        "  df[text_col] = df[text_col].str.replace(\"é\", \"e\")\n",
        "  df[text_col] = df[text_col].str.replace(\"è\", \"e\")\n",
        "  df[text_col] = df[text_col].str.replace(\"á\", \"a\")\n",
        "  df[text_col] = df[text_col].str.replace(\"à\", \"a\")\n",
        "  df[text_col] = df[text_col].str.replace(\"ñ\", \"gn\")\n",
        "\n",
        "  return df\n",
        "\n",
        "\n",
        "to_tag_df = cleaner(to_tag_df, 'concat_text_user_description')\n",
        "to_tag_df = cleaner(to_tag_df, 'full_text')"
      ],
      "execution_count": 0,
      "outputs": []
    },
    {
      "cell_type": "markdown",
      "metadata": {
        "id": "EtogO9m3jv2n",
        "colab_type": "text"
      },
      "source": [
        "## Sections to Tag \n",
        "\n",
        "- Tag label_type (service reported)\n",
        "  - Extracting pound signs (\\#)\n",
        "\n",
        "- Tag Country\n",
        "  - Matches any state? \n",
        "  - has keyword 'edo' or 'estado' in it?\n",
        "  - Follows any of the common accounts?\n",
        "- Tag State\n",
        "  - Match with list of venezuela states\n",
        "  - We can use a list of venezuelan cities as well "
      ]
    },
    {
      "cell_type": "markdown",
      "metadata": {
        "id": "uJQo6Q725duV",
        "colab_type": "text"
      },
      "source": [
        "### Classifying Label Type"
      ]
    },
    {
      "cell_type": "markdown",
      "metadata": {
        "id": "aEVa39Xe5ogc",
        "colab_type": "text"
      },
      "source": [
        "#### Hashtags\n",
        "\n",
        "* \\#SinLuz\n",
        "\n",
        "\n",
        "\n",
        "\n"
      ]
    },
    {
      "cell_type": "code",
      "metadata": {
        "id": "QOMhF-6eCFxY",
        "colab_type": "code",
        "colab": {}
      },
      "source": [
        "\n",
        "# sinluz         670\n",
        "# ahora           68\n",
        "# sinagua         66\n",
        "# apagon          65\n",
        "# singasolina     53\n",
        "\n",
        "hashtags = pd.Series(re.findall('#(\\w+)', to_tag_df.concat_text_user_description.to_string())).copy()\n",
        "\n",
        "# hashtags.value_counts()[hashtags.value_counts() > 10]\n",
        "\n",
        "# hashtags[hashtags == 'sinl']\n",
        "\n"
      ],
      "execution_count": 0,
      "outputs": []
    },
    {
      "cell_type": "markdown",
      "metadata": {
        "id": "clJfc4I_vpdH",
        "colab_type": "text"
      },
      "source": [
        "### Tagging Country\n",
        "\n",
        "  - Matches any state? \n",
        "  - has keyword 'edo' or 'estado' in it?\n",
        "  - Follows any of the common accounts?\n",
        "\n",
        "*Notes*\n",
        "  - For this section I will use the tweet's original text. If I include the user description it can add noise because a user can be reporting about a power outage of another state (e.g., I'm from caracas and reporting a power outage in Zulia)\n",
        "  "
      ]
    },
    {
      "cell_type": "code",
      "metadata": {
        "id": "LXRzNfuXGk-G",
        "colab_type": "code",
        "outputId": "736e7a70-5b35-4889-f463-45522fed64e6",
        "colab": {
          "base_uri": "https://localhost:8080/",
          "height": 54
        }
      },
      "source": [
        "# Read csv with Venezuela's administrative distribution\n",
        "geo_df = pd.read_csv('/content/drive/My Drive/monitor_ciudad/cod.csv')\n",
        "\n",
        "# Clean Columns\n",
        "cols = ['parroquia', 'nombrepob', 'estado','nom_mun']\n",
        "\n",
        "for col in cols:\n",
        "  geo_df = cleaner(geo_df, col)\n",
        "\n",
        "# # Unique pob name\n",
        "#   # CHECK ENCODING ERROR WITH JESUS  carupano\n",
        "# # geo_df.nombrepob.unique()\n",
        "\n",
        "# Read states\n",
        "state = geo_df.estado.unique().tolist()\n",
        "\n",
        "# Read Municipalities\n",
        "muni = geo_df.nom_mun.unique().tolist()\n",
        "\n",
        "# Which indices contain any state \n",
        "indices = to_tag_df.full_text.str.contains('|'.join(state), \n",
        "                                                              case = False) # 6754\n",
        "\n",
        "# Which indices contain \"edo\"\n",
        "# indices = to_tag_df.full_text.str.contains('\\sedo', case = False)\n",
        "\n",
        "## View results\n",
        "to_tag_df[indices]\n",
        "\n",
        "## Tag Venezuela \n",
        "to_tag_df.loc[indices,'label_country'] = 'venezuela'\n",
        "\n",
        "\n",
        "\n",
        "## Quality Control \n",
        "\n",
        "\n",
        "\n",
        "# tst = 'Todavía #SinLuz y son las 6:30  pm nueve horas sin luz en San Cristóbal  estado tachira sector los #kioskos #SinLuz vía seguro social exigimos el servicio ya dejen la burla y el cinismo al pueblo hijos de putas @CORPOELECinfo @corpoelectachir @NicolasMaduro @dcabellor \"Luis Suarez\" \"LuisSua45172692\" \"soy abogado egresado de la universidad Javeriana de Bogotá Colombia  especialista en derecho internacional\"'\n",
        "# tst = cleaner(pd.DataFrame({'col':[tst]}), 'col').to_string()\n",
        "# # If there's more than one element in state then it's multiple\n",
        "# for i in state:\n",
        "#   if i in tst:\n",
        "#     print(i)\n",
        "#   else:\n",
        "#     next\n",
        "\n",
        "\n"
      ],
      "execution_count": 45,
      "outputs": [
        {
          "output_type": "stream",
          "text": [
            "[6274, 6275, 6326, 6327, 6567, 6599, 6618, 6670, 6694, 6708, 6805, 6822, 7190, 7238, 7262, 7264, 7299, 7357, 7399, 7497, 7524, 7526, 7602, 7630, 7666, 7679, 7724, 7756, 7791, 7792, 7801, 7853, 7878, 7881, 7903, 7925, 8011, 8031, 8036, 8054, 8090, 8122, 8153, 8188, 8355, 8356, 8427, 8491]\n"
          ],
          "name": "stdout"
        }
      ]
    },
    {
      "cell_type": "markdown",
      "metadata": {
        "id": "fjSzeAw-8n_p",
        "colab_type": "text"
      },
      "source": [
        "#### Municipality"
      ]
    },
    {
      "cell_type": "code",
      "metadata": {
        "id": "qF_-hJy-8cvm",
        "colab_type": "code",
        "colab": {}
      },
      "source": [
        "\n",
        "## There's a municipality called\n",
        "  # Democracy \n",
        "\n",
        "# indices = to_tag_df.concat_text_user_description.str.contains('|'.join(muni), case = False) # 6754\n",
        "\n",
        "# to_tag_df[indices]"
      ],
      "execution_count": 0,
      "outputs": []
    },
    {
      "cell_type": "code",
      "metadata": {
        "id": "59pCEiIMjYuQ",
        "colab_type": "code",
        "outputId": "1769f705-e4f5-4969-adc9-eb3e546c103e",
        "colab": {
          "base_uri": "https://localhost:8080/",
          "height": 895
        }
      },
      "source": [
        "# 653 tweets with hashtags Out of 2228 tweets\n",
        "\n",
        "\n",
        "\n",
        "indices = to_tag_df.concat_text_user_description.str.contains('venezuela', case = False) # 6754\n",
        "\n",
        "to_tag_df[indices]"
      ],
      "execution_count": 47,
      "outputs": [
        {
          "output_type": "execute_result",
          "data": {
            "text/html": [
              "<div>\n",
              "<style scoped>\n",
              "    .dataframe tbody tr th:only-of-type {\n",
              "        vertical-align: middle;\n",
              "    }\n",
              "\n",
              "    .dataframe tbody tr th {\n",
              "        vertical-align: top;\n",
              "    }\n",
              "\n",
              "    .dataframe thead th {\n",
              "        text-align: right;\n",
              "    }\n",
              "</style>\n",
              "<table border=\"1\" class=\"dataframe\">\n",
              "  <thead>\n",
              "    <tr style=\"text-align: right;\">\n",
              "      <th></th>\n",
              "      <th>full_text</th>\n",
              "      <th>concat_text_user_description</th>\n",
              "      <th>label_country</th>\n",
              "      <th>label_state</th>\n",
              "      <th>label_type</th>\n",
              "    </tr>\n",
              "  </thead>\n",
              "  <tbody>\n",
              "    <tr>\n",
              "      <th>6273</th>\n",
              "      <td>tenemos reportes de apagones por el area de maracay, venezuela. | reporta tu apagon con #sinluz</td>\n",
              "      <td>tenemos reportes de apagones por el area de maracay, venezuela. | reporta tu apagon con #sinluz \"sinluzvenezuela\" \"sefuelaluz_vzla\" \"verifying #sinluz around twitter in venezuela\"</td>\n",
              "      <td>Venezuela</td>\n",
              "      <td>0</td>\n",
              "      <td></td>\n",
              "    </tr>\n",
              "    <tr>\n",
              "      <th>6279</th>\n",
              "      <td>hace como media hora llego la electricidad a el parral, valencia. mas de 8 horas estuvimos #sinluz. @corpoeleccar_ @rafaellacava10</td>\n",
              "      <td>hace como media hora llego la electricidad a el parral, valencia. mas de 8 horas estuvimos #sinluz. @corpoeleccar_ @rafaellacava10 \"mayte rizzo\" \"mayterizzo\" \"profesional universitaria. #anticomunista. sin fe no hay esperanza, y sin esperanza no hay amor. ¡dios, bendice a venezuela!\"</td>\n",
              "      <td>0</td>\n",
              "      <td>0</td>\n",
              "      <td></td>\n",
              "    </tr>\n",
              "    <tr>\n",
              "      <th>6282</th>\n",
              "      <td>#venezuela el coronareginen del siglo xxi #sinluz  #singasolina #sinpatria #sininternet #sinagua,sin gas,s/ medicinas,sin comida,s/vida digna, los miembros d la  banda de la mafia roja, 21 agnos de  corrupcion, miseria y muerte, son el estigma de la peor herencia de la humanidad</td>\n",
              "      <td>#venezuela el coronareginen del siglo xxi #sinluz  #singasolina #sinpatria #sininternet #sinagua,sin gas,s/ medicinas,sin comida,s/vida digna, los miembros d la  banda de la mafia roja, 21 agnos de  corrupcion, miseria y muerte, son el estigma de la peor herencia de la humanidad \"sandra d.\" \"sandracd10\" \"periodista y ucabista\"</td>\n",
              "      <td>0</td>\n",
              "      <td>0</td>\n",
              "      <td></td>\n",
              "    </tr>\n",
              "    <tr>\n",
              "      <th>6289</th>\n",
              "      <td>conductores hacen largas colas en caracas para surtirse de combustible https://t.co/awvt6trfco\\n\\n#singasolina #nacional #venevision #venezuela #noticierovenevision https://t.co/a3wv51xnng</td>\n",
              "      <td>conductores hacen largas colas en caracas para surtirse de combustible https://t.co/awvt6trfco\\n\\n#singasolina #nacional #venevision #venezuela #noticierovenevision https://t.co/a3wv51xnng \"noticiero venevision\" \"noticierovv\" \"programa informativo venezolano que difunde sus noticias por tv a traves de venevision, y por su sitio web http://t.co/aqzltxrumf\"</td>\n",
              "      <td>0</td>\n",
              "      <td>0</td>\n",
              "      <td></td>\n",
              "    </tr>\n",
              "    <tr>\n",
              "      <th>6297</th>\n",
              "      <td>1:22 am se restablece el servicio electrico en la ciudad de san juan de los morros, luego del #apagonnacional ocurrido aproximadamente a las 4:00 pm #sinluz #23jul</td>\n",
              "      <td>1:22 am se restablece el servicio electrico en la ciudad de san juan de los morros, luego del #apagonnacional ocurrido aproximadamente a las 4:00 pm #sinluz #23jul \"deivis gutierrez\" \"deivis_dg1\" \"estudiante de comunicacion social (unerg) la pasion por el periodismo me motiva a luchar por mi pais                         instagram: @deivis_dg1  venezuela\"</td>\n",
              "      <td>0</td>\n",
              "      <td>0</td>\n",
              "      <td></td>\n",
              "    </tr>\n",
              "    <tr>\n",
              "      <th>...</th>\n",
              "      <td>...</td>\n",
              "      <td>...</td>\n",
              "      <td>...</td>\n",
              "      <td>...</td>\n",
              "      <td>...</td>\n",
              "    </tr>\n",
              "    <tr>\n",
              "      <th>8479</th>\n",
              "      <td>#3ago | apagones afectan tambien a la industria del calzado &amp;gt;&amp;gt; https://t.co/e3dsfupyvr #reporteelectrico #sinluz #venezuela https://t.co/oilb3ero09</td>\n",
              "      <td>#3ago | apagones afectan tambien a la industria del calzado &amp;gt;&amp;gt; https://t.co/e3dsfupyvr #reporteelectrico #sinluz #venezuela https://t.co/oilb3ero09 \"reporte electrico\" \"reportelectrico\" \"cuenta dedicada a informar sobre la crisis electrica de venezuela y otras noticias de relevancia. tu aporte es importante siguenos #reporteelectrico\"</td>\n",
              "      <td>0</td>\n",
              "      <td>0</td>\n",
              "      <td></td>\n",
              "    </tr>\n",
              "    <tr>\n",
              "      <th>8480</th>\n",
              "      <td>#sinluz #apagon #venezuela #apagonnacional #electromagnetico aqui el culpable del ataque #guayana https://t.co/vymfv7bqhr</td>\n",
              "      <td>#sinluz #apagon #venezuela #apagonnacional #electromagnetico aqui el culpable del ataque #guayana https://t.co/vymfv7bqhr \"cesar  a\" \"cesarav7\" \"dios ,hija &amp; flia debemos buscar en los demas la felicidad que deseamos para nosotros mismos,d l, namaste ,community manager, mercadologo 5.0/social media👽\"</td>\n",
              "      <td>0</td>\n",
              "      <td>0</td>\n",
              "      <td></td>\n",
              "    </tr>\n",
              "    <tr>\n",
              "      <th>8483</th>\n",
              "      <td>#29oct 8:20 pm #barinas\\n\\n sin servicio electrico comunidades guanapa, 5 julio, la paz, la esmeralda, redoma industrial. \\n\\n14 dias sin suministro de agua potable.\\n\\n✝️ socialismo asesino ✝️\\n\\n@hidroandesca @codbarinas @gobarinas \\n#sinagua\\n#sinluz\\n@reporteya @periodistadsd</td>\n",
              "      <td>#29oct 8:20 pm #barinas\\n\\n sin servicio electrico comunidades guanapa, 5 julio, la paz, la esmeralda, redoma industrial. \\n\\n14 dias sin suministro de agua potable.\\n\\n✝️ socialismo asesino ✝️\\n\\n@hidroandesca @codbarinas @gobarinas \\n#sinagua\\n#sinluz\\n@reporteya @periodistadsd \"erick darkside\" \"alarcon_erick\" \"tec. en computacion, nativo de san cristobal - tachira | amante de la democracia y la libertad | disidente al regimen |activista @dsdvzla | @soyvenezuela\"</td>\n",
              "      <td>0</td>\n",
              "      <td>0</td>\n",
              "      <td></td>\n",
              "    </tr>\n",
              "    <tr>\n",
              "      <th>8486</th>\n",
              "      <td>#22jul han pasado dos horas de este nuevo #apagonnacional . caracas y 20 estados de venezuela #sinluz. no ha habido pronunciamiento oficial.</td>\n",
              "      <td>#22jul han pasado dos horas de este nuevo #apagonnacional . caracas y 20 estados de venezuela #sinluz. no ha habido pronunciamiento oficial. \"erick lezama aranguren\" \"ericklezama1\" \"periodista venezolano • editor adjunto de @lavidadenos • reportero en @saludconlupa • sobreviviente de cancer • canto a cada rato y bailo salsa •\"</td>\n",
              "      <td>0</td>\n",
              "      <td>0</td>\n",
              "      <td></td>\n",
              "    </tr>\n",
              "    <tr>\n",
              "      <th>8497</th>\n",
              "      <td>#15sep | video 📽️ conozca las empresas que ganaron mas de 33 mil millones de dolares por corrupcion en el sistema electrico nacional &amp;gt;&amp;gt; https://t.co/qdgbut0frk #venezuela #sinluz #reporteelectrico https://t.co/u4xhjmmyxx</td>\n",
              "      <td>#15sep | video 📽️ conozca las empresas que ganaron mas de 33 mil millones de dolares por corrupcion en el sistema electrico nacional &amp;gt;&amp;gt; https://t.co/qdgbut0frk #venezuela #sinluz #reporteelectrico https://t.co/u4xhjmmyxx \"reporte electrico\" \"reportelectrico\" \"cuenta dedicada a informar sobre la crisis electrica de venezuela y otras noticias de relevancia. tu aporte es importante siguenos #reporteelectrico\"</td>\n",
              "      <td>0</td>\n",
              "      <td>0</td>\n",
              "      <td></td>\n",
              "    </tr>\n",
              "  </tbody>\n",
              "</table>\n",
              "<p>470 rows × 5 columns</p>\n",
              "</div>"
            ],
            "text/plain": [
              "0                                                                                                                                                                                                                                                                                    full_text  ... label_type\n",
              "6273                                                                                                                                                                                           tenemos reportes de apagones por el area de maracay, venezuela. | reporta tu apagon con #sinluz  ...           \n",
              "6279                                                                                                                                                        hace como media hora llego la electricidad a el parral, valencia. mas de 8 horas estuvimos #sinluz. @corpoeleccar_ @rafaellacava10  ...           \n",
              "6282   #venezuela el coronareginen del siglo xxi #sinluz  #singasolina #sinpatria #sininternet #sinagua,sin gas,s/ medicinas,sin comida,s/vida digna, los miembros d la  banda de la mafia roja, 21 agnos de  corrupcion, miseria y muerte, son el estigma de la peor herencia de la humanidad  ...           \n",
              "6289                                                                                              conductores hacen largas colas en caracas para surtirse de combustible https://t.co/awvt6trfco\\n\\n#singasolina #nacional #venevision #venezuela #noticierovenevision https://t.co/a3wv51xnng  ...           \n",
              "6297                                                                                                                       1:22 am se restablece el servicio electrico en la ciudad de san juan de los morros, luego del #apagonnacional ocurrido aproximadamente a las 4:00 pm #sinluz #23jul  ...           \n",
              "...                                                                                                                                                                                                                                                                                        ...  ...        ...\n",
              "8479                                                                                                                                 #3ago | apagones afectan tambien a la industria del calzado &gt;&gt; https://t.co/e3dsfupyvr #reporteelectrico #sinluz #venezuela https://t.co/oilb3ero09  ...           \n",
              "8480                                                                                                                                                                 #sinluz #apagon #venezuela #apagonnacional #electromagnetico aqui el culpable del ataque #guayana https://t.co/vymfv7bqhr  ...           \n",
              "8483  #29oct 8:20 pm #barinas\\n\\n sin servicio electrico comunidades guanapa, 5 julio, la paz, la esmeralda, redoma industrial. \\n\\n14 dias sin suministro de agua potable.\\n\\n✝️ socialismo asesino ✝️\\n\\n@hidroandesca @codbarinas @gobarinas \\n#sinagua\\n#sinluz\\n@reporteya @periodistadsd  ...           \n",
              "8486                                                                                                                                              #22jul han pasado dos horas de este nuevo #apagonnacional . caracas y 20 estados de venezuela #sinluz. no ha habido pronunciamiento oficial.  ...           \n",
              "8497                                                        #15sep | video 📽️ conozca las empresas que ganaron mas de 33 mil millones de dolares por corrupcion en el sistema electrico nacional &gt;&gt; https://t.co/qdgbut0frk #venezuela #sinluz #reporteelectrico https://t.co/u4xhjmmyxx  ...           \n",
              "\n",
              "[470 rows x 5 columns]"
            ]
          },
          "metadata": {
            "tags": []
          },
          "execution_count": 47
        }
      ]
    },
    {
      "cell_type": "markdown",
      "metadata": {
        "id": "VMZGyQZR0cmE",
        "colab_type": "text"
      },
      "source": [
        "## Tagging State"
      ]
    },
    {
      "cell_type": "markdown",
      "metadata": {
        "id": "_sEMAHvA3ToW",
        "colab_type": "text"
      },
      "source": [
        "\n",
        "Incluimos cuentas que reportan a nivel nacional? Es ruido porque lo que hacen es repetir lo que otros usuarios dicen? O captura señal porque son reportes de fallas de luz?\n",
        "\n",
        "~~~\n",
        "print(tags_df.loc[8122,'full_text'])\n",
        "\n",
        "#Ahora Reportan más zonas #SinLuz: \n",
        "\n",
        "Catia, Distrito Capital ❌💡\n",
        "Guatire y Guarenas, Edo. Miranda ❌💡\n",
        "Estado Mérida ❌💡\n",
        "Estado Aragua ❌💡\n",
        "\n",
        "Comenta si hay fallas en tu zona #2Oct\n",
        "\n",
        "~~~"
      ]
    },
    {
      "cell_type": "code",
      "metadata": {
        "id": "-b9rpo0XsdiY",
        "colab_type": "code",
        "colab": {
          "base_uri": "https://localhost:8080/",
          "height": 989
        },
        "outputId": "0e4f2416-a452-4048-ed08-60813b8f5d2b"
      },
      "source": [
        "\n",
        "_multiple = []\n",
        "_single = []\n",
        "for index,row in to_tag_df.loc[to_tag_df.label_country == 'venezuela', 'full_text'].iteritems():\n",
        "  _lst = []\n",
        "\n",
        "  for state_name in state:\n",
        "\n",
        "    if state_name in row:\n",
        "      _lst.append(1)\n",
        "    \n",
        "\n",
        "      if len(_lst) == 1:\n",
        "        _single.append(index)\n",
        "\n",
        "      elif len(_lst) > 1:\n",
        "        _multiple.append(index)\n",
        "\n",
        "      else:\n",
        "        next\n",
        "\n",
        "\n",
        "      print(len(_lst), '------', index)\n",
        "    else:\n",
        "      next\n",
        "\n",
        "print(_single)\n",
        "\n",
        "# tst = to_tag_df.loc[8122,'full_text']\n",
        "# tst = cleaner(pd.DataFrame({'col':[tst]}), 'col').to_string()\n",
        "# # If there's more than one element in state then it's multiple\n",
        "# for i in state:\n",
        "#   if i in tst:\n",
        "#     print(i)\n",
        "#   else:\n",
        "#     next\n"
      ],
      "execution_count": 69,
      "outputs": [
        {
          "output_type": "stream",
          "text": [
            "1 ------ 6274\n",
            "1 ------ 6275\n",
            "1 ------ 6326\n",
            "1 ------ 6327\n",
            "1 ------ 6567\n",
            "1 ------ 6599\n",
            "1 ------ 6618\n",
            "1 ------ 6670\n",
            "1 ------ 6694\n",
            "1 ------ 6708\n",
            "1 ------ 6805\n",
            "1 ------ 6822\n",
            "1 ------ 7190\n",
            "1 ------ 7238\n",
            "1 ------ 7262\n",
            "1 ------ 7264\n",
            "1 ------ 7299\n",
            "1 ------ 7357\n",
            "1 ------ 7399\n",
            "1 ------ 7497\n",
            "1 ------ 7524\n",
            "1 ------ 7526\n",
            "1 ------ 7602\n",
            "1 ------ 7630\n",
            "1 ------ 7666\n",
            "1 ------ 7679\n",
            "1 ------ 7724\n",
            "2 ------ 7724\n",
            "1 ------ 7756\n",
            "1 ------ 7791\n",
            "2 ------ 7791\n",
            "1 ------ 7792\n",
            "1 ------ 7801\n",
            "1 ------ 7853\n",
            "1 ------ 7878\n",
            "1 ------ 7881\n",
            "1 ------ 7903\n",
            "1 ------ 7925\n",
            "1 ------ 8011\n",
            "2 ------ 8011\n",
            "1 ------ 8031\n",
            "1 ------ 8036\n",
            "1 ------ 8054\n",
            "1 ------ 8090\n",
            "1 ------ 8122\n",
            "2 ------ 8122\n",
            "3 ------ 8122\n",
            "4 ------ 8122\n",
            "1 ------ 8153\n",
            "2 ------ 8153\n",
            "1 ------ 8188\n",
            "1 ------ 8355\n",
            "1 ------ 8356\n",
            "1 ------ 8427\n",
            "1 ------ 8491\n",
            "[6274, 6275, 6326, 6327, 6567, 6599, 6618, 6670, 6694, 6708, 6805, 6822, 7190, 7238, 7262, 7264, 7299, 7357, 7399, 7497, 7524, 7526, 7602, 7630, 7666, 7679, 7724, 7756, 7791, 7792, 7801, 7853, 7878, 7881, 7903, 7925, 8011, 8031, 8036, 8054, 8090, 8122, 8153, 8188, 8355, 8356, 8427, 8491]\n"
          ],
          "name": "stdout"
        }
      ]
    }
  ]
}