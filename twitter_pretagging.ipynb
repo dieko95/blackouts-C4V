{
  "nbformat": 4,
  "nbformat_minor": 0,
  "metadata": {
    "colab": {
      "name": "twitter-pretagging",
      "provenance": [],
      "collapsed_sections": [],
      "authorship_tag": "ABX9TyNdBiNY7B74pdpYOwQir/zB",
      "include_colab_link": true
    },
    "kernelspec": {
      "name": "python3",
      "display_name": "Python 3"
    }
  },
  "cells": [
    {
      "cell_type": "markdown",
      "metadata": {
        "id": "view-in-github",
        "colab_type": "text"
      },
      "source": [
        "<a href=\"https://colab.research.google.com/github/dieko95/blackouts-C4V/blob/master/twitter_pretagging.ipynb\" target=\"_parent\"><img src=\"https://colab.research.google.com/assets/colab-badge.svg\" alt=\"Open In Colab\"/></a>"
      ]
    },
    {
      "cell_type": "markdown",
      "metadata": {
        "id": "nYeFRTD02JJd",
        "colab_type": "text"
      },
      "source": [
        "# Automated Tagging"
      ]
    },
    {
      "cell_type": "markdown",
      "metadata": {
        "id": "tUGVhRHs5OZn",
        "colab_type": "text"
      },
      "source": [
        "## Accessing Data"
      ]
    },
    {
      "cell_type": "code",
      "metadata": {
        "id": "tZLjkEIzfBjf",
        "colab_type": "code",
        "colab": {}
      },
      "source": [
        "!pip install --upgrade -q gspread"
      ],
      "execution_count": 0,
      "outputs": []
    },
    {
      "cell_type": "code",
      "metadata": {
        "id": "feyaLh-5fBi5",
        "colab_type": "code",
        "colab": {}
      },
      "source": [
        "from google.colab import auth\n",
        "auth.authenticate_user()\n",
        "\n",
        "import gspread\n",
        "from oauth2client.client import GoogleCredentials\n",
        "\n",
        "gc = gspread.authorize(GoogleCredentials.get_application_default())\n",
        "\n",
        "worksheet = gc.open('Training Set - #SinLuz Country Classifier').sheet1\n",
        "\n",
        "# get_all_values gives a list of rows.\n",
        "rows = worksheet.get_all_values()"
      ],
      "execution_count": 0,
      "outputs": []
    },
    {
      "cell_type": "code",
      "metadata": {
        "id": "SqxBPHjCfJP0",
        "colab_type": "code",
        "colab": {}
      },
      "source": [
        "# Convert to a DataFrame and render.\n",
        "import pandas as pd\n",
        "# pd.DataFrame.from_records(rows)\n",
        "tagOriginalDf = pd.DataFrame(rows)\n",
        "\n",
        "tagOriginalDf.columns = tagOriginalDf.iloc[0,:]\n",
        "tagOriginalDf = tagOriginalDf.drop(index = 0)"
      ],
      "execution_count": 0,
      "outputs": []
    },
    {
      "cell_type": "code",
      "metadata": {
        "id": "rN37zlHcfbj0",
        "colab_type": "code",
        "colab": {}
      },
      "source": [
        "diegoTags = tagOriginalDf.iloc[6001:8500,:].copy()\n",
        "\n",
        "diegoOriginalTag = diegoTags[['concat_text_user_description', 'label_country', 'label_state', 'label_type']].iloc[:271,:].copy()\n",
        "diegoToTag = diegoTags[['concat_text_user_description', 'label_country', 'label_state', 'label_type']].iloc[271:,:].copy()"
      ],
      "execution_count": 0,
      "outputs": []
    },
    {
      "cell_type": "markdown",
      "metadata": {
        "id": "aROWrNLK52aq",
        "colab_type": "text"
      },
      "source": [
        "## Cleaning Text"
      ]
    },
    {
      "cell_type": "code",
      "metadata": {
        "id": "6ec-4OIX6BAi",
        "colab_type": "code",
        "colab": {}
      },
      "source": [
        "def cleaner(df,text_col):\n",
        "  # to lower\n",
        "\n",
        "  df[text_col] = df[text_col].str.lower()\n",
        "\n",
        "  # Convert common spanish accents\n",
        "\n",
        "  df[text_col] = df[text_col].str.replace(\"ú\", \"u\")\n",
        "  df[text_col] = df[text_col].str.replace(\"ù\", \"u\")\n",
        "  df[text_col] = df[text_col].str.replace(\"ü\", \"u\")\n",
        "  df[text_col] = df[text_col].str.replace(\"ó\", \"o\")\n",
        "  df[text_col] = df[text_col].str.replace(\"ò\", \"o\")\n",
        "  df[text_col] = df[text_col].str.replace(\"í\", \"i\")\n",
        "  df[text_col] = df[text_col].str.replace(\"ì\", \"i\")\n",
        "  df[text_col] = df[text_col].str.replace(\"é\", \"e\")\n",
        "  df[text_col] = df[text_col].str.replace(\"è\", \"e\")\n",
        "  df[text_col] = df[text_col].str.replace(\"á\", \"a\")\n",
        "  df[text_col] = df[text_col].str.replace(\"à\", \"a\")\n",
        "  df[text_col] = df[text_col].str.replace(\"ñ\", \"gn\")\n",
        "\n",
        "  return df\n",
        "\n",
        "\n",
        "diegoToTag = cleaner(diegoToTag, 'concat_text_user_description')"
      ],
      "execution_count": 0,
      "outputs": []
    },
    {
      "cell_type": "markdown",
      "metadata": {
        "id": "EtogO9m3jv2n",
        "colab_type": "text"
      },
      "source": [
        "## Functions \n",
        "\n",
        "- Classify label_type (service reported)\n",
        "  - Extracting pound signs (\\#)\n",
        "- Classify Country\n",
        "  - Matches any state? \n",
        "  - has keyword 'edo' or 'estado' in it?\n",
        "\n",
        "  - Follows any of the common accounts?\n",
        "- Classify State\n",
        "  - Match with list of venezuela states\n",
        "  - We can use a list of venezuelan cities as well "
      ]
    },
    {
      "cell_type": "markdown",
      "metadata": {
        "id": "uJQo6Q725duV",
        "colab_type": "text"
      },
      "source": [
        "### Classifying Label Type"
      ]
    },
    {
      "cell_type": "markdown",
      "metadata": {
        "id": "aEVa39Xe5ogc",
        "colab_type": "text"
      },
      "source": [
        "#### Hashtags\n",
        "\n",
        "* \\#SinLuz\n",
        "\n",
        "\n",
        "\n",
        "\n"
      ]
    },
    {
      "cell_type": "code",
      "metadata": {
        "id": "59pCEiIMjYuQ",
        "colab_type": "code",
        "colab": {
          "base_uri": "https://localhost:8080/",
          "height": 49
        },
        "outputId": "a0ae90c9-3772-4550-bba1-99de00e461c2"
      },
      "source": [
        "# 653 hashtags\n",
        "\n",
        "\n",
        "indices = diegoToTag.concat_text_user_description.str.match('')\n",
        "diegoToTag[indices]\n",
        "\n",
        "# indices = diegoToTag.concat_text_user_description.str.match('#')"
      ],
      "execution_count": 18,
      "outputs": [
        {
          "output_type": "execute_result",
          "data": {
            "text/html": [
              "<div>\n",
              "<style scoped>\n",
              "    .dataframe tbody tr th:only-of-type {\n",
              "        vertical-align: middle;\n",
              "    }\n",
              "\n",
              "    .dataframe tbody tr th {\n",
              "        vertical-align: top;\n",
              "    }\n",
              "\n",
              "    .dataframe thead th {\n",
              "        text-align: right;\n",
              "    }\n",
              "</style>\n",
              "<table border=\"1\" class=\"dataframe\">\n",
              "  <thead>\n",
              "    <tr style=\"text-align: right;\">\n",
              "      <th></th>\n",
              "      <th>concat_text_user_description</th>\n",
              "      <th>label_country</th>\n",
              "      <th>label_state</th>\n",
              "      <th>label_type</th>\n",
              "    </tr>\n",
              "  </thead>\n",
              "  <tbody>\n",
              "  </tbody>\n",
              "</table>\n",
              "</div>"
            ],
            "text/plain": [
              "Empty DataFrame\n",
              "Columns: [concat_text_user_description, label_country, label_state, label_type]\n",
              "Index: []"
            ]
          },
          "metadata": {
            "tags": []
          },
          "execution_count": 18
        }
      ]
    }
  ]
}