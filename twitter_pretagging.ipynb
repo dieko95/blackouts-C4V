{
  "nbformat": 4,
  "nbformat_minor": 0,
  "metadata": {
    "colab": {
      "name": "twitter-pretagging",
      "provenance": [],
      "collapsed_sections": [
        "aEVa39Xe5ogc"
      ],
      "include_colab_link": true
    },
    "kernelspec": {
      "name": "python3",
      "display_name": "Python 3"
    }
  },
  "cells": [
    {
      "cell_type": "markdown",
      "metadata": {
        "id": "view-in-github",
        "colab_type": "text"
      },
      "source": [
        "<a href=\"https://colab.research.google.com/github/dieko95/blackouts-C4V/blob/omar-first-iter/twitter_pretagging.ipynb\" target=\"_parent\"><img src=\"https://colab.research.google.com/assets/colab-badge.svg\" alt=\"Open In Colab\"/></a>"
      ]
    },
    {
      "cell_type": "markdown",
      "metadata": {
        "id": "nYeFRTD02JJd",
        "colab_type": "text"
      },
      "source": [
        "# Automated Tagging"
      ]
    },
    {
      "cell_type": "markdown",
      "metadata": {
        "id": "rPjvaTP1pN6_",
        "colab_type": "text"
      },
      "source": [
        "## Libraries\n",
        "\n"
      ]
    },
    {
      "cell_type": "code",
      "metadata": {
        "id": "YESX9HG2pMWC",
        "colab_type": "code",
        "colab": {}
      },
      "source": [
        "from google.colab import auth\n",
        "import gspread\n",
        "from oauth2client.client import GoogleCredentials\n",
        "import pandas as pd"
      ],
      "execution_count": 0,
      "outputs": []
    },
    {
      "cell_type": "markdown",
      "metadata": {
        "id": "tUGVhRHs5OZn",
        "colab_type": "text"
      },
      "source": [
        "## Accessing Data"
      ]
    },
    {
      "cell_type": "code",
      "metadata": {
        "id": "tZLjkEIzfBjf",
        "colab_type": "code",
        "colab": {}
      },
      "source": [
        "## Installing package to access\n",
        "!pip install --upgrade -q google-auth\n",
        "!pip install --upgrade -q gspread\n",
        "\n",
        "# For better visualization of text in Pandas DF\n",
        "pd.set_option('display.max_colwidth', None)"
      ],
      "execution_count": 0,
      "outputs": []
    },
    {
      "cell_type": "code",
      "metadata": {
        "id": "feyaLh-5fBi5",
        "colab_type": "code",
        "colab": {}
      },
      "source": [
        "# Authentication to access the untagged spreadhseet\n",
        "auth.authenticate_user()\n",
        "\n",
        "# Authenticating to open google sheets\n",
        "gc = gspread.authorize(GoogleCredentials.get_application_default())\n",
        "\n",
        "# Open File's sheet 1\n",
        "worksheet = gc.open('Training Set - #SinLuz Country Classifier').sheet1\n",
        "\n",
        "# get_all_values gives a list of rows.\n",
        "rows = worksheet.get_all_values()"
      ],
      "execution_count": 0,
      "outputs": []
    },
    {
      "cell_type": "code",
      "metadata": {
        "id": "SqxBPHjCfJP0",
        "colab_type": "code",
        "colab": {}
      },
      "source": [
        "# Convert to a DataFrame and render.\n",
        "\n",
        "tagOriginalDf = pd.DataFrame(rows)\n",
        "\n",
        "# First row has the column names\n",
        "  # Rename columns\n",
        "tagOriginalDf.columns = tagOriginalDf.iloc[0,:]\n",
        "\n",
        "# Drop Columns\n",
        "tagOriginalDf = tagOriginalDf.drop(index = 0)"
      ],
      "execution_count": 0,
      "outputs": []
    },
    {
      "cell_type": "code",
      "metadata": {
        "id": "4um0LanSXAPu",
        "colab_type": "code",
        "outputId": "4ce1e82e-4c8c-44ce-c4b4-33018b613e82",
        "colab": {
          "base_uri": "https://localhost:8080/",
          "height": 34
        }
      },
      "source": [
        "# Mount Drive\n",
        "from google.colab import drive\n",
        "drive.mount('/content/drive')"
      ],
      "execution_count": 6,
      "outputs": [
        {
          "output_type": "stream",
          "text": [
            "Drive already mounted at /content/drive; to attempt to forcibly remount, call drive.mount(\"/content/drive\", force_remount=True).\n"
          ],
          "name": "stdout"
        }
      ]
    },
    {
      "cell_type": "code",
      "metadata": {
        "id": "rN37zlHcfbj0",
        "colab_type": "code",
        "colab": {}
      },
      "source": [
        "# Corresponding Section\n",
        "tags_df = tagOriginalDf.iloc[8500:11000,:].copy()\n",
        "\n",
        "# Tagged Tweets\n",
        "pre_tag_df = tags_df[['full_text','concat_text_user_description', 'label_country', 'label_state', 'label_type']].iloc[:271,:].copy()\n",
        "\n",
        "# Tweets to tag\n",
        "to_tag_df = tags_df[['full_text','concat_text_user_description', 'label_country', 'label_state', 'label_type']].iloc[271:,:].copy()"
      ],
      "execution_count": 0,
      "outputs": []
    },
    {
      "cell_type": "markdown",
      "metadata": {
        "id": "aROWrNLK52aq",
        "colab_type": "text"
      },
      "source": [
        "## Cleaning Text"
      ]
    },
    {
      "cell_type": "code",
      "metadata": {
        "id": "6ec-4OIX6BAi",
        "colab_type": "code",
        "colab": {}
      },
      "source": [
        "def cleaner(df,text_col):\n",
        "  # to lower\n",
        "\n",
        "  df[text_col] = df[text_col].str.lower()\n",
        "\n",
        "  # Convert common spanish accents\n",
        "\n",
        "  df[text_col] = df[text_col].str.replace(\"ú\", \"u\")\n",
        "  df[text_col] = df[text_col].str.replace(\"ù\", \"u\")\n",
        "  df[text_col] = df[text_col].str.replace(\"ü\", \"u\")\n",
        "  df[text_col] = df[text_col].str.replace(\"ó\", \"o\")\n",
        "  df[text_col] = df[text_col].str.replace(\"ò\", \"o\")\n",
        "  df[text_col] = df[text_col].str.replace(\"í\", \"i\")\n",
        "  df[text_col] = df[text_col].str.replace(\"ì\", \"i\")\n",
        "  df[text_col] = df[text_col].str.replace(\"é\", \"e\")\n",
        "  df[text_col] = df[text_col].str.replace(\"è\", \"e\")\n",
        "  df[text_col] = df[text_col].str.replace(\"á\", \"a\")\n",
        "  df[text_col] = df[text_col].str.replace(\"à\", \"a\")\n",
        "  df[text_col] = df[text_col].str.replace(\"ñ\", \"gn\")\n",
        "\n",
        "  return df\n",
        "\n",
        "\n",
        "to_tag_df = cleaner(to_tag_df, 'concat_text_user_description')\n",
        "to_tag_df = cleaner(to_tag_df, 'full_text')"
      ],
      "execution_count": 0,
      "outputs": []
    },
    {
      "cell_type": "markdown",
      "metadata": {
        "id": "EtogO9m3jv2n",
        "colab_type": "text"
      },
      "source": [
        "## Functions \n",
        "\n",
        "- Classify label_type (service reported)\n",
        "  - Extracting pound signs (\\#)\n",
        "- Classify Country\n",
        "  - Matches any state? \n",
        "  - has keyword 'edo' or 'estado' in it?\n",
        "  - Follows any of the common accounts?\n",
        "- Classify State\n",
        "  - Match with list of venezuela states\n",
        "  - We can use a list of venezuelan cities as well "
      ]
    },
    {
      "cell_type": "markdown",
      "metadata": {
        "id": "uJQo6Q725duV",
        "colab_type": "text"
      },
      "source": [
        "### Classifying Label Type"
      ]
    },
    {
      "cell_type": "markdown",
      "metadata": {
        "id": "aEVa39Xe5ogc",
        "colab_type": "text"
      },
      "source": [
        "#### Hashtags\n",
        "\n",
        "* \\#SinLuz\n",
        "\n",
        "\n",
        "\n",
        "\n"
      ]
    },
    {
      "cell_type": "code",
      "metadata": {
        "id": "QOMhF-6eCFxY",
        "colab_type": "code",
        "colab": {}
      },
      "source": [
        "import re\n",
        "\n",
        "# sinluz         670\n",
        "# ahora           68\n",
        "# sinagua         66\n",
        "# apagon          65\n",
        "# singasolina     53\n",
        "\n",
        "hashtags = pd.Series(re.findall('#(\\w+)', to_tag_df.concat_text_user_description.to_string())).copy()\n",
        "\n",
        "# hashtags.value_counts()[hashtags.value_counts() > 10]\n",
        "\n",
        "# hashtags[hashtags == 'sinl']\n",
        "\n"
      ],
      "execution_count": 0,
      "outputs": []
    },
    {
      "cell_type": "markdown",
      "metadata": {
        "id": "clJfc4I_vpdH",
        "colab_type": "text"
      },
      "source": [
        "### Tagging Country\n",
        "\n",
        "  - Matches any state? \n",
        "  - has keyword 'edo' or 'estado' in it?\n",
        "  - Follows any of the common accounts?\n",
        "\n",
        "*Notes*\n",
        "  - For this section I will use the tweet's original text. If I include the user description it can add noise because a user can be reporting about a power outage of another state (e.g., I'm from caracas and reporting a power outage in Zulia)\n",
        "  "
      ]
    },
    {
      "cell_type": "code",
      "metadata": {
        "id": "LXRzNfuXGk-G",
        "colab_type": "code",
        "colab": {}
      },
      "source": [
        "# # Read csv with Venezuela's administrative distribution\n",
        "# geo_df = pd.read_csv('/content/drive/My Drive/monitor_ciudad/cod.csv')\n",
        "\n",
        "# # Clean Columns\n",
        "# cols = ['parroquia', 'nombrepob', 'estado','nom_mun']\n",
        "\n",
        "# for col in cols:\n",
        "#   geo_df = cleaner(geo_df, col)\n",
        "\n",
        "# # # Unique pob name\n",
        "# #   # CHECK ENCODING ERROR WITH JESUS  car�pano\n",
        "# # # geo_df.nombrepob.unique()\n",
        "\n",
        "# state = geo_df.estado.unique().tolist()\n",
        "\n",
        "# muni = geo_df.nom_mun.unique().tolist()\n",
        "\n",
        "\n",
        "# indices = to_tag_df.concat_text_user_description.str.contains('|'.join(state), case = False) # 6754\n",
        "\n",
        "# indices = to_tag_df.concat_text_user_description.str.contains('\\sedo', case = False)\n",
        "\n",
        "# ## View results\n",
        "# to_tag_df[indices]\n",
        "\n",
        "# ## Tag Venezuela \n",
        "# to_tag_df.loc[indices,'label_country'] = 'venezuela'\n",
        "\n",
        "# _multiple = []\n",
        "# for index,row in to_tag_df.loc[to_tag_df.label_country == 'venezuela', 'full_text'].iteritems():\n",
        "#   _lst = []\n",
        "\n",
        "#   for state_name in state:\n",
        "#     if state_name in row:\n",
        "#       _lst.append(1)\n",
        "#       if len(_lst) > 1:\n",
        "#         _multiple.append(index)\n",
        "#       else:\n",
        "#         next\n",
        "#       # print(len(_lst), '------', index)\n",
        "#     else:\n",
        "#       next\n",
        "\n",
        "# print(_multiple)\n",
        "\n",
        "\n",
        "# Quality Control \n",
        "\n",
        "\n",
        "\n",
        "# tst = 'Todavía #SinLuz y son las 6:30  pm nueve horas sin luz en San Cristóbal  estado tachira sector los #kioskos #SinLuz vía seguro social exigimos el servicio ya dejen la burla y el cinismo al pueblo hijos de putas @CORPOELECinfo @corpoelectachir @NicolasMaduro @dcabellor \"Luis Suarez\" \"LuisSua45172692\" \"soy abogado egresado de la universidad Javeriana de Bogotá Colombia  especialista en derecho internacional\"'\n",
        "# tst = cleaner(pd.DataFrame({'col':[tst]}), 'col').to_string()\n",
        "# # If there's more than one element in state then it's multiple\n",
        "# for i in state:\n",
        "  # if i in tst:\n",
        "  #   print(i)\n",
        "  # else:\n",
        "  #   next\n",
        "\n",
        "\n"
      ],
      "execution_count": 0,
      "outputs": []
    },
    {
      "cell_type": "markdown",
      "metadata": {
        "id": "fjSzeAw-8n_p",
        "colab_type": "text"
      },
      "source": [
        "#### Municipality"
      ]
    },
    {
      "cell_type": "code",
      "metadata": {
        "id": "qF_-hJy-8cvm",
        "colab_type": "code",
        "colab": {
          "base_uri": "https://localhost:8080/",
          "height": 215
        },
        "outputId": "92876bd7-ebc8-494c-e1a1-5b3992edf997"
      },
      "source": [
        "\n",
        "# There's a municipality called\n",
        "  # Democracy \n",
        "\n",
        "# indices = to_tag_df.concat_text_user_description.str.contains('|'.join(muni), case = False) # 6754\n",
        "\n",
        "# to_tag_df[indices]"
      ],
      "execution_count": 20,
      "outputs": [
        {
          "output_type": "error",
          "ename": "NameError",
          "evalue": "ignored",
          "traceback": [
            "\u001b[0;31m---------------------------------------------------------------------------\u001b[0m",
            "\u001b[0;31mNameError\u001b[0m                                 Traceback (most recent call last)",
            "\u001b[0;32m<ipython-input-20-6e63a56d7afd>\u001b[0m in \u001b[0;36m<module>\u001b[0;34m()\u001b[0m\n\u001b[1;32m      1\u001b[0m \u001b[0;34m\u001b[0m\u001b[0m\n\u001b[0;32m----> 2\u001b[0;31m \u001b[0mindices\u001b[0m \u001b[0;34m=\u001b[0m \u001b[0mto_tag_df\u001b[0m\u001b[0;34m.\u001b[0m\u001b[0mconcat_text_user_description\u001b[0m\u001b[0;34m.\u001b[0m\u001b[0mstr\u001b[0m\u001b[0;34m.\u001b[0m\u001b[0mcontains\u001b[0m\u001b[0;34m(\u001b[0m\u001b[0;34m'|'\u001b[0m\u001b[0;34m.\u001b[0m\u001b[0mjoin\u001b[0m\u001b[0;34m(\u001b[0m\u001b[0mmuni\u001b[0m\u001b[0;34m)\u001b[0m\u001b[0;34m,\u001b[0m \u001b[0mcase\u001b[0m \u001b[0;34m=\u001b[0m \u001b[0;32mFalse\u001b[0m\u001b[0;34m)\u001b[0m \u001b[0;31m# 6754\u001b[0m\u001b[0;34m\u001b[0m\u001b[0;34m\u001b[0m\u001b[0m\n\u001b[0m\u001b[1;32m      3\u001b[0m \u001b[0;34m\u001b[0m\u001b[0m\n\u001b[1;32m      4\u001b[0m \u001b[0mto_tag_df\u001b[0m\u001b[0;34m[\u001b[0m\u001b[0mindices\u001b[0m\u001b[0;34m]\u001b[0m\u001b[0;34m\u001b[0m\u001b[0;34m\u001b[0m\u001b[0m\n",
            "\u001b[0;31mNameError\u001b[0m: name 'muni' is not defined"
          ]
        }
      ]
    },
    {
      "cell_type": "code",
      "metadata": {
        "id": "59pCEiIMjYuQ",
        "colab_type": "code",
        "colab": {
          "base_uri": "https://localhost:8080/",
          "height": 1000
        },
        "outputId": "66b91792-440c-468a-de9a-2f7bb261f7eb"
      },
      "source": [
        "# 486 tweets with hashtags Out of 2228 tweets\n",
        "\n",
        "\n",
        "\n",
        "indices = to_tag_df.concat_text_user_description.str.contains('venezuela', case = False) # 6754\n",
        "\n",
        "to_tag_df[indices]"
      ],
      "execution_count": 14,
      "outputs": [
        {
          "output_type": "execute_result",
          "data": {
            "text/html": [
              "<div>\n",
              "<style scoped>\n",
              "    .dataframe tbody tr th:only-of-type {\n",
              "        vertical-align: middle;\n",
              "    }\n",
              "\n",
              "    .dataframe tbody tr th {\n",
              "        vertical-align: top;\n",
              "    }\n",
              "\n",
              "    .dataframe thead th {\n",
              "        text-align: right;\n",
              "    }\n",
              "</style>\n",
              "<table border=\"1\" class=\"dataframe\">\n",
              "  <thead>\n",
              "    <tr style=\"text-align: right;\">\n",
              "      <th></th>\n",
              "      <th>full_text</th>\n",
              "      <th>concat_text_user_description</th>\n",
              "      <th>label_country</th>\n",
              "      <th>label_state</th>\n",
              "      <th>label_type</th>\n",
              "    </tr>\n",
              "  </thead>\n",
              "  <tbody>\n",
              "    <tr>\n",
              "      <th>8775</th>\n",
              "      <td>en nombre de mi comandante eterno e infinito hugo chavez y de mi amado lider @nicolasmaduro te perdono...\\n\\n#09sep #venezuelaindetenible #sinluz \\n\\n@carnetdlapatria\\n\\n @patria_ve\\n\\n @mippcivzla\\n @nicolasmaduro\\n @dcabellor https://t.co/pjopewyftf</td>\n",
              "      <td>en nombre de mi comandante eterno e infinito hugo chavez y de mi amado lider @nicolasmaduro te perdono...\\n\\n#09sep #venezuelaindetenible #sinluz \\n\\n@carnetdlapatria\\n\\n @patria_ve\\n\\n @mippcivzla\\n @nicolasmaduro\\n @dcabellor https://t.co/pjopewyftf \"el camarada salah 5000k\" \"vatolxs\" \"hijo de una tierra de patriotas y de libertadores...radicalmente venezolano/revolucionario/chavista/patriota/soydelsur \\n\\nciudadano constitucional\\n\\n#tuiterosvzla\"</td>\n",
              "      <td>0</td>\n",
              "      <td>0</td>\n",
              "      <td></td>\n",
              "    </tr>\n",
              "    <tr>\n",
              "      <th>8781</th>\n",
              "      <td>no pierde vigencia ese chiste ya viejo sobre la situacion en #venezuela \\n\"¿quien estara jugando #jumanji ?\" \\n#hiperinflacion \\n#crisispolitica \\n#sinluz \\n#sinagua \\n#calor \\ny de paso ahora \\n#temblor #sismo \\n#9sept</td>\n",
              "      <td>no pierde vigencia ese chiste ya viejo sobre la situacion en #venezuela \\n\"¿quien estara jugando #jumanji ?\" \\n#hiperinflacion \\n#crisispolitica \\n#sinluz \\n#sinagua \\n#calor \\ny de paso ahora \\n#temblor #sismo \\n#9sept \"cesar gutierr(e)z (dj)\" \"dj_cesar\" \"venezolano en ccs pongo musica por hobbie, me gusta la musica de los 80 y 90. regueton solo para trabajar. el resto del tiempo trabajo en calidad de sistema(qa)\"</td>\n",
              "      <td>0</td>\n",
              "      <td>0</td>\n",
              "      <td></td>\n",
              "    </tr>\n",
              "    <tr>\n",
              "      <th>8787</th>\n",
              "      <td>entre apagones ha estado este dia en #tachira ¿y ustedes tienen electricidad? desde donde nos reportan. \\n\\n#apagon #venezuela #sinluz #14dic #diciembre #navidad https://t.co/kbtoc2slgz</td>\n",
              "      <td>entre apagones ha estado este dia en #tachira ¿y ustedes tienen electricidad? desde donde nos reportan. \\n\\n#apagon #venezuela #sinluz #14dic #diciembre #navidad https://t.co/kbtoc2slgz \"tachira post\" \"tachirapost\" \"medio digital en tachira\\n\\ninformacion veraz regional, nacional e internacional\\n\\nenvianos tu reporte o denuncia al dm\"</td>\n",
              "      <td>0</td>\n",
              "      <td>0</td>\n",
              "      <td></td>\n",
              "    </tr>\n",
              "    <tr>\n",
              "      <th>8789</th>\n",
              "      <td>@federicamog @ep_president @unioneuropea #sinagua #sinluz #sosvenezuela \\n\\ntampoco hay comida a precios accesibles. todo muy caro y el salario y pensiones son $2 al mes. mucha hambre, pobreza, desempleo. operacion exterminio #sosvenezuela</td>\n",
              "      <td>@federicamog @ep_president @unioneuropea #sinagua #sinluz #sosvenezuela \\n\\ntampoco hay comida a precios accesibles. todo muy caro y el salario y pensiones son $2 al mes. mucha hambre, pobreza, desempleo. operacion exterminio #sosvenezuela \"2c@#duinconsueloc\" \"duinconsueloc\" \"persona de la tercera edad\\r\\ncreyente en dios y la santisima virgen\\r\\npreocupada por el destino de mi pais\\r\\ncuenta de ayuda para todos\"</td>\n",
              "      <td>0</td>\n",
              "      <td>0</td>\n",
              "      <td></td>\n",
              "    </tr>\n",
              "    <tr>\n",
              "      <th>8790</th>\n",
              "      <td>@omachitozam @marthamendozap @benhur8a @bernardo_98364 @oraffor @figueroa35 @acastellanosb buen descanso omar y panitas #lluvia #sinluz #sinsegnal</td>\n",
              "      <td>@omachitozam @marthamendozap @benhur8a @bernardo_98364 @oraffor @figueroa35 @acastellanosb buen descanso omar y panitas #lluvia #sinluz #sinsegnal \"nany 🐦\" \"nanitap_23\" \"lic adm. mencion gerencia industrial •unellez..los jovenes productores ganaderos queremos un cambio en venezuela  #tercosdelcampovzla 🐮🐂🐄🐏\"</td>\n",
              "      <td>0</td>\n",
              "      <td>0</td>\n",
              "      <td></td>\n",
              "    </tr>\n",
              "    <tr>\n",
              "      <th>...</th>\n",
              "      <td>...</td>\n",
              "      <td>...</td>\n",
              "      <td>...</td>\n",
              "      <td>...</td>\n",
              "      <td>...</td>\n",
              "    </tr>\n",
              "    <tr>\n",
              "      <th>10963</th>\n",
              "      <td>la calima que cubre el valle del turbio en el estado lara presagia elevadas temperaturas que afectaran el consumo electrico en nuestra zona donde no se resolvio nada en plantas termolectricas que dejaron dagnar por negligencia, impericia tecnica y corrupcion @corpoeleclara #sinluz</td>\n",
              "      <td>la calima que cubre el valle del turbio en el estado lara presagia elevadas temperaturas que afectaran el consumo electrico en nuestra zona donde no se resolvio nada en plantas termolectricas que dejaron dagnar por negligencia, impericia tecnica y corrupcion @corpoeleclara #sinluz \"ing.hector rodriguez\" \"hecosw\" \"ing.electricista. estado lara, venezuela produccion de fusibles y conectores electricos, tecnologia venezolana de solucion\"</td>\n",
              "      <td>0</td>\n",
              "      <td>0</td>\n",
              "      <td></td>\n",
              "    </tr>\n",
              "    <tr>\n",
              "      <th>10965</th>\n",
              "      <td>@corpoelecinfo  #sinluz desde anoche para varia villanueva del hatiilo, la union , caicaguana ineptos</td>\n",
              "      <td>@corpoelecinfo  #sinluz desde anoche para varia villanueva del hatiilo, la union , caicaguana ineptos \"diana sucre\" \"wizardsf\" \"venezuela libre 🙏🏻\"</td>\n",
              "      <td>0</td>\n",
              "      <td>0</td>\n",
              "      <td></td>\n",
              "    </tr>\n",
              "    <tr>\n",
              "      <th>10978</th>\n",
              "      <td>@andreinars el de ayer no se.  pero hoy en #macaracuay #caracas llevamos casi 4 horas #sinluz #17jun #venezuela</td>\n",
              "      <td>@andreinars el de ayer no se.  pero hoy en #macaracuay #caracas llevamos casi 4 horas #sinluz #17jun #venezuela \"francis♥\" \"estrella_free\" \"♥amo a mi pais♥ venezolana amante de la libertad y la justicia. ingeniero. opinadora de lo que me place. comunistas:fuera de mi cuenta y mi pais. #libertadonada\"</td>\n",
              "      <td>0</td>\n",
              "      <td>0</td>\n",
              "      <td></td>\n",
              "    </tr>\n",
              "    <tr>\n",
              "      <th>10987</th>\n",
              "      <td>#10oct #sinluz #singasolina #zulia 12 horas sin electricidad pasaron muchos sectores de #maracaibo, el racionamiento se prolongo. tampoco hay gasolina suficiente, ni para vehiculos o plantas . asi estan en el occidente de venezuela - @menamary</td>\n",
              "      <td>#10oct #sinluz #singasolina #zulia 12 horas sin electricidad pasaron muchos sectores de #maracaibo, el racionamiento se prolongo. tampoco hay gasolina suficiente, ni para vehiculos o plantas . asi estan en el occidente de venezuela - @menamary \"reporte ya\" \"reporteya\" \"red venezolana de periodismo ciudadano. dictamos talleres para el uso de redes sociales. pioneros en alfabetizacion digital.\"</td>\n",
              "      <td>0</td>\n",
              "      <td>0</td>\n",
              "      <td></td>\n",
              "    </tr>\n",
              "    <tr>\n",
              "      <th>10999</th>\n",
              "      <td>varias zonas de #vargas arriban a mas de 12 horas sin servicio electrico. \\n\\ndesde ayer en la tarde cuando se genero el incendio en la planta de #tacoa comenzaron las fallas en el suministro.\\n\\nmaiquetia, naiguata, caraballeda y caribe son algunos sectores que continuan #sinluz</td>\n",
              "      <td>varias zonas de #vargas arriban a mas de 12 horas sin servicio electrico. \\n\\ndesde ayer en la tarde cuando se genero el incendio en la planta de #tacoa comenzaron las fallas en el suministro.\\n\\nmaiquetia, naiguata, caraballeda y caribe son algunos sectores que continuan #sinluz \"dsd vargas\" \"dsdvargas\" \"democracia-sociedad y desarrollos para venezuela| capitulo #vargas | #redesdsd  | #activismo | somos #ciudadanosdecambio\"</td>\n",
              "      <td>0</td>\n",
              "      <td>0</td>\n",
              "      <td></td>\n",
              "    </tr>\n",
              "  </tbody>\n",
              "</table>\n",
              "<p>486 rows × 5 columns</p>\n",
              "</div>"
            ],
            "text/plain": [
              "0                                                                                                                                                                                                                                                                                      full_text  ... label_type\n",
              "8775                                 en nombre de mi comandante eterno e infinito hugo chavez y de mi amado lider @nicolasmaduro te perdono...\\n\\n#09sep #venezuelaindetenible #sinluz \\n\\n@carnetdlapatria\\n\\n @patria_ve\\n\\n @mippcivzla\\n @nicolasmaduro\\n @dcabellor https://t.co/pjopewyftf  ...           \n",
              "8781                                                                 no pierde vigencia ese chiste ya viejo sobre la situacion en #venezuela \\n\"¿quien estara jugando #jumanji ?\" \\n#hiperinflacion \\n#crisispolitica \\n#sinluz \\n#sinagua \\n#calor \\ny de paso ahora \\n#temblor #sismo \\n#9sept  ...           \n",
              "8787                                                                                                   entre apagones ha estado este dia en #tachira ¿y ustedes tienen electricidad? desde donde nos reportan. \\n\\n#apagon #venezuela #sinluz #14dic #diciembre #navidad https://t.co/kbtoc2slgz  ...           \n",
              "8789                                             @federicamog @ep_president @unioneuropea #sinagua #sinluz #sosvenezuela \\n\\ntampoco hay comida a precios accesibles. todo muy caro y el salario y pensiones son $2 al mes. mucha hambre, pobreza, desempleo. operacion exterminio #sosvenezuela  ...           \n",
              "8790                                                                                                                                          @omachitozam @marthamendozap @benhur8a @bernardo_98364 @oraffor @figueroa35 @acastellanosb buen descanso omar y panitas #lluvia #sinluz #sinsegnal  ...           \n",
              "...                                                                                                                                                                                                                                                                                          ...  ...        ...\n",
              "10963  la calima que cubre el valle del turbio en el estado lara presagia elevadas temperaturas que afectaran el consumo electrico en nuestra zona donde no se resolvio nada en plantas termolectricas que dejaron dagnar por negligencia, impericia tecnica y corrupcion @corpoeleclara #sinluz  ...           \n",
              "10965                                                                                                                                                                                      @corpoelecinfo  #sinluz desde anoche para varia villanueva del hatiilo, la union , caicaguana ineptos  ...           \n",
              "10978                                                                                                                                                                            @andreinars el de ayer no se.  pero hoy en #macaracuay #caracas llevamos casi 4 horas #sinluz #17jun #venezuela  ...           \n",
              "10987                                        #10oct #sinluz #singasolina #zulia 12 horas sin electricidad pasaron muchos sectores de #maracaibo, el racionamiento se prolongo. tampoco hay gasolina suficiente, ni para vehiculos o plantas . asi estan en el occidente de venezuela - @menamary  ...           \n",
              "10999   varias zonas de #vargas arriban a mas de 12 horas sin servicio electrico. \\n\\ndesde ayer en la tarde cuando se genero el incendio en la planta de #tacoa comenzaron las fallas en el suministro.\\n\\nmaiquetia, naiguata, caraballeda y caribe son algunos sectores que continuan #sinluz  ...           \n",
              "\n",
              "[486 rows x 5 columns]"
            ]
          },
          "metadata": {
            "tags": []
          },
          "execution_count": 14
        }
      ]
    },
    {
      "cell_type": "code",
      "metadata": {
        "id": "-b9rpo0XsdiY",
        "colab_type": "code",
        "colab": {}
      },
      "source": [
        "ciudades =  (\"\"\"puerto ayacucho|\n",
        "               pto. ayacucho|\n",
        "               barcelona|\n",
        "               san fernando de apure|\n",
        "               maracay|\n",
        "               barinas|\n",
        "               ciudad bolivar|\n",
        "               valencia|\n",
        "               san carlos|\n",
        "               tucupita|\n",
        "               caracas|\n",
        "               coro|\n",
        "               san juan de los morros| \n",
        "               barquisimeto|\n",
        "               merida|\n",
        "               los teques|\n",
        "               maturin|\n",
        "               la asuncion|\n",
        "               margarita|\n",
        "               guanare|\n",
        "               cumana|\n",
        "               san cristobal|\n",
        "               trujillo|\n",
        "               la guaira|\n",
        "               san felipe|\n",
        "               maracaibo|\n",
        "               ciudad ojeda|\"\"\" ) #2229 tweets\n",
        "\n",
        "# ('caracas| maracaibo') #327\n",
        "\n"
      ],
      "execution_count": 0,
      "outputs": []
    },
    {
      "cell_type": "code",
      "metadata": {
        "id": "YlLoDNXKuXeF",
        "colab_type": "code",
        "colab": {
          "base_uri": "https://localhost:8080/",
          "height": 912
        },
        "outputId": "94324415-d7fb-4ae1-f43b-9566d6f6b3a0"
      },
      "source": [
        "indices_w_cities = to_tag_df.concat_text_user_description.str.contains(ciudades, case = False)\n",
        "\n",
        "#2229 rows with the cities above\n",
        "to_tag_vzla = to_tag_df[indices_w_cities]\n",
        "\n",
        "#Tagging the 'label_country' column\n",
        "to_tag_vzla['label_country'] = 0"
      ],
      "execution_count": 48,
      "outputs": [
        {
          "output_type": "execute_result",
          "data": {
            "text/html": [
              "<div>\n",
              "<style scoped>\n",
              "    .dataframe tbody tr th:only-of-type {\n",
              "        vertical-align: middle;\n",
              "    }\n",
              "\n",
              "    .dataframe tbody tr th {\n",
              "        vertical-align: top;\n",
              "    }\n",
              "\n",
              "    .dataframe thead th {\n",
              "        text-align: right;\n",
              "    }\n",
              "</style>\n",
              "<table border=\"1\" class=\"dataframe\">\n",
              "  <thead>\n",
              "    <tr style=\"text-align: right;\">\n",
              "      <th></th>\n",
              "      <th>full_text</th>\n",
              "      <th>concat_text_user_description</th>\n",
              "      <th>label_country</th>\n",
              "      <th>label_state</th>\n",
              "      <th>label_type</th>\n",
              "    </tr>\n",
              "  </thead>\n",
              "  <tbody>\n",
              "    <tr>\n",
              "      <th>8772</th>\n",
              "      <td>#sinluz en la bombilla petare nuevamente</td>\n",
              "      <td>#sinluz en la bombilla petare nuevamente \"...\" \"jrsg_2\" \"\"</td>\n",
              "      <td>0</td>\n",
              "      <td>0</td>\n",
              "      <td></td>\n",
              "    </tr>\n",
              "    <tr>\n",
              "      <th>8773</th>\n",
              "      <td>delincuentes profesionales #estafa #megaestafa #ratas #cafres #apagon https://t.co/yv4iyincuv</td>\n",
              "      <td>delincuentes profesionales #estafa #megaestafa #ratas #cafres #apagon https://t.co/yv4iyincuv \"florentino ariza potrozo\" \"soyflorentinoar\" \"que usted no sea una victima mas del delincuente, gonorrea, ladron, rata y estafador decatriple hp alejandro sanclemente mendoza cedula 80424614.\"</td>\n",
              "      <td>0</td>\n",
              "      <td>0</td>\n",
              "      <td></td>\n",
              "    </tr>\n",
              "    <tr>\n",
              "      <th>8774</th>\n",
              "      <td>@omairalabradorm  alegria de tisico mi estimada licenciada, otra vez sin energia electrica en #tariba, vamos a ver cuantas horas, amanecera y veremos #sinluz</td>\n",
              "      <td>@omairalabradorm  alegria de tisico mi estimada licenciada, otra vez sin energia electrica en #tariba, vamos a ver cuantas horas, amanecera y veremos #sinluz \"ja\" \"jargenisruiz\" \"cada dia que pasa debe ser mejor y mejor!!\"</td>\n",
              "      <td>0</td>\n",
              "      <td>0</td>\n",
              "      <td></td>\n",
              "    </tr>\n",
              "    <tr>\n",
              "      <th>8775</th>\n",
              "      <td>en nombre de mi comandante eterno e infinito hugo chavez y de mi amado lider @nicolasmaduro te perdono...\\n\\n#09sep #venezuelaindetenible #sinluz \\n\\n@carnetdlapatria\\n\\n @patria_ve\\n\\n @mippcivzla\\n @nicolasmaduro\\n @dcabellor https://t.co/pjopewyftf</td>\n",
              "      <td>en nombre de mi comandante eterno e infinito hugo chavez y de mi amado lider @nicolasmaduro te perdono...\\n\\n#09sep #venezuelaindetenible #sinluz \\n\\n@carnetdlapatria\\n\\n @patria_ve\\n\\n @mippcivzla\\n @nicolasmaduro\\n @dcabellor https://t.co/pjopewyftf \"el camarada salah 5000k\" \"vatolxs\" \"hijo de una tierra de patriotas y de libertadores...radicalmente venezolano/revolucionario/chavista/patriota/soydelsur \\n\\nciudadano constitucional\\n\\n#tuiterosvzla\"</td>\n",
              "      <td>0</td>\n",
              "      <td>0</td>\n",
              "      <td></td>\n",
              "    </tr>\n",
              "    <tr>\n",
              "      <th>8776</th>\n",
              "      <td>3er dia #sinluz   #volvieron</td>\n",
              "      <td>3er dia #sinluz   #volvieron \"v e r o   vampamel\" \"vvampamel\" \"martillera de bossio vampamel propiedades, madre de 2 varones, esposa de un buen compagnero de ruta e hija de 2 personas maravillosas. quê mas puedo pedir?\"</td>\n",
              "      <td>0</td>\n",
              "      <td>0</td>\n",
              "      <td></td>\n",
              "    </tr>\n",
              "    <tr>\n",
              "      <th>...</th>\n",
              "      <td>...</td>\n",
              "      <td>...</td>\n",
              "      <td>...</td>\n",
              "      <td>...</td>\n",
              "      <td>...</td>\n",
              "    </tr>\n",
              "    <tr>\n",
              "      <th>10996</th>\n",
              "      <td>actualizado: usuarios sin suministro electrico: @oficialedesur @edenorclientes #sinluz #secorto https://t.co/3v7kxspe2r</td>\n",
              "      <td>actualizado: usuarios sin suministro electrico: @oficialedesur @edenorclientes #sinluz #secorto https://t.co/3v7kxspe2r \"se corto la luz!\" \"se_corto\" \"datos del suministro de luz actualizados cada media hora para capital federal y gran bs as\"</td>\n",
              "      <td>0</td>\n",
              "      <td>0</td>\n",
              "      <td></td>\n",
              "    </tr>\n",
              "    <tr>\n",
              "      <th>10997</th>\n",
              "      <td>#ahora las 5 zonas mas afectadas sin suministro electrico por empresa. #sinluz #secorto #luisguillon #virreydelpino https://t.co/b8kg4dgmhs</td>\n",
              "      <td>#ahora las 5 zonas mas afectadas sin suministro electrico por empresa. #sinluz #secorto #luisguillon #virreydelpino https://t.co/b8kg4dgmhs \"se corto la luz!\" \"se_corto\" \"datos del suministro de luz actualizados cada media hora para capital federal y gran bs as\"</td>\n",
              "      <td>0</td>\n",
              "      <td>0</td>\n",
              "      <td></td>\n",
              "    </tr>\n",
              "    <tr>\n",
              "      <th>10998</th>\n",
              "      <td>terceros comodos...\\n#sinluz #apagon https://t.co/pentiap1z5</td>\n",
              "      <td>terceros comodos...\\n#sinluz #apagon https://t.co/pentiap1z5 \"claudio\" \"claudio_sotto\" \"se compra lo que tiene precio, lo que tiene valor se conquista. #independiente #reydecopas\"</td>\n",
              "      <td>0</td>\n",
              "      <td>0</td>\n",
              "      <td></td>\n",
              "    </tr>\n",
              "    <tr>\n",
              "      <th>10999</th>\n",
              "      <td>varias zonas de #vargas arriban a mas de 12 horas sin servicio electrico. \\n\\ndesde ayer en la tarde cuando se genero el incendio en la planta de #tacoa comenzaron las fallas en el suministro.\\n\\nmaiquetia, naiguata, caraballeda y caribe son algunos sectores que continuan #sinluz</td>\n",
              "      <td>varias zonas de #vargas arriban a mas de 12 horas sin servicio electrico. \\n\\ndesde ayer en la tarde cuando se genero el incendio en la planta de #tacoa comenzaron las fallas en el suministro.\\n\\nmaiquetia, naiguata, caraballeda y caribe son algunos sectores que continuan #sinluz \"dsd vargas\" \"dsdvargas\" \"democracia-sociedad y desarrollos para venezuela| capitulo #vargas | #redesdsd  | #activismo | somos #ciudadanosdecambio\"</td>\n",
              "      <td>0</td>\n",
              "      <td>0</td>\n",
              "      <td></td>\n",
              "    </tr>\n",
              "    <tr>\n",
              "      <th>11000</th>\n",
              "      <td>llego 10 min la luz y se fue #lecheria #barcelona #sinluz</td>\n",
              "      <td>llego 10 min la luz y se fue #lecheria #barcelona #sinluz \"soy un 🌵\" \"lokdlacolina\" \"lunatica, cule, escribo con la iqz y pienso con la derecha. libros, rockola ambulante, estudiante de la ciencias del cielo.\"</td>\n",
              "      <td>0</td>\n",
              "      <td>0</td>\n",
              "      <td></td>\n",
              "    </tr>\n",
              "  </tbody>\n",
              "</table>\n",
              "<p>2229 rows × 5 columns</p>\n",
              "</div>"
            ],
            "text/plain": [
              "0                                                                                                                                                                                                                                                                                     full_text  ... label_type\n",
              "8772                                                                                                                                                                                                                                                   #sinluz en la bombilla petare nuevamente  ...           \n",
              "8773                                                                                                                                                                                              delincuentes profesionales #estafa #megaestafa #ratas #cafres #apagon https://t.co/yv4iyincuv  ...           \n",
              "8774                                                                                                                              @omairalabradorm  alegria de tisico mi estimada licenciada, otra vez sin energia electrica en #tariba, vamos a ver cuantas horas, amanecera y veremos #sinluz  ...           \n",
              "8775                                en nombre de mi comandante eterno e infinito hugo chavez y de mi amado lider @nicolasmaduro te perdono...\\n\\n#09sep #venezuelaindetenible #sinluz \\n\\n@carnetdlapatria\\n\\n @patria_ve\\n\\n @mippcivzla\\n @nicolasmaduro\\n @dcabellor https://t.co/pjopewyftf  ...           \n",
              "8776                                                                                                                                                                                                                                                               3er dia #sinluz   #volvieron  ...           \n",
              "...                                                                                                                                                                                                                                                                                         ...  ...        ...\n",
              "10996                                                                                                                                                                   actualizado: usuarios sin suministro electrico: @oficialedesur @edenorclientes #sinluz #secorto https://t.co/3v7kxspe2r  ...           \n",
              "10997                                                                                                                                               #ahora las 5 zonas mas afectadas sin suministro electrico por empresa. #sinluz #secorto #luisguillon #virreydelpino https://t.co/b8kg4dgmhs  ...           \n",
              "10998                                                                                                                                                                                                                              terceros comodos...\\n#sinluz #apagon https://t.co/pentiap1z5  ...           \n",
              "10999  varias zonas de #vargas arriban a mas de 12 horas sin servicio electrico. \\n\\ndesde ayer en la tarde cuando se genero el incendio en la planta de #tacoa comenzaron las fallas en el suministro.\\n\\nmaiquetia, naiguata, caraballeda y caribe son algunos sectores que continuan #sinluz  ...           \n",
              "11000                                                                                                                                                                                                                                 llego 10 min la luz y se fue #lecheria #barcelona #sinluz  ...           \n",
              "\n",
              "[2229 rows x 5 columns]"
            ]
          },
          "metadata": {
            "tags": []
          },
          "execution_count": 48
        }
      ]
    },
    {
      "cell_type": "markdown",
      "metadata": {
        "id": "AiWvy7LQEN0l",
        "colab_type": "text"
      },
      "source": [
        "The list of capital cities in Venezuela is able to extract 2229 rows that mention them."
      ]
    },
    {
      "cell_type": "code",
      "metadata": {
        "id": "MotTaCSOGQTU",
        "colab_type": "code",
        "colab": {}
      },
      "source": [
        "estados = {\"\"\"amazonas|\n",
        "            anzoategui|\n",
        "            apure|\n",
        "            aragua|\n",
        "            barinas|\n",
        "            bolivar|\n",
        "            carabobo|\n",
        "            cojedes|\n",
        "            delta Amacuro|\n",
        "            distrito Capital|\n",
        "            falcon|\n",
        "            guarico|\n",
        "            lara|\n",
        "            merida|\n",
        "            miranda|\n",
        "            monagas|\n",
        "            nueva Esparta|\n",
        "            portuguesa|\n",
        "            sucre|\n",
        "            tachira|\n",
        "            trujillo|\n",
        "            vargas|\n",
        "            yaracuy|\n",
        "            zulia\"\"\"}"
      ],
      "execution_count": 0,
      "outputs": []
    },
    {
      "cell_type": "code",
      "metadata": {
        "id": "oRFkZ6NrGbb_",
        "colab_type": "code",
        "colab": {
          "base_uri": "https://localhost:8080/",
          "height": 148
        },
        "outputId": "de829b5b-27af-4f01-c2c3-937b26db9a1d"
      },
      "source": [
        "# indices_w_states = to_tag_df.concat_text_user_description.str.contains(estados, case = False)\n",
        "\n",
        "# to_tag_df[indices_w_states] # 1 row"
      ],
      "execution_count": 39,
      "outputs": [
        {
          "output_type": "execute_result",
          "data": {
            "text/html": [
              "<div>\n",
              "<style scoped>\n",
              "    .dataframe tbody tr th:only-of-type {\n",
              "        vertical-align: middle;\n",
              "    }\n",
              "\n",
              "    .dataframe tbody tr th {\n",
              "        vertical-align: top;\n",
              "    }\n",
              "\n",
              "    .dataframe thead th {\n",
              "        text-align: right;\n",
              "    }\n",
              "</style>\n",
              "<table border=\"1\" class=\"dataframe\">\n",
              "  <thead>\n",
              "    <tr style=\"text-align: right;\">\n",
              "      <th></th>\n",
              "      <th>full_text</th>\n",
              "      <th>concat_text_user_description</th>\n",
              "      <th>label_country</th>\n",
              "      <th>label_state</th>\n",
              "      <th>label_type</th>\n",
              "    </tr>\n",
              "  </thead>\n",
              "  <tbody>\n",
              "    <tr>\n",
              "      <th>10888</th>\n",
              "      <td>#26dic #amazonas #singasolina no hay gasolina en pto. ayacucho.\\nmotorizados trancan la redoma autana en protesta por la falta de combustible  https://t.co/mz70qov1un - @carolinaazavach</td>\n",
              "      <td>#26dic #amazonas #singasolina no hay gasolina en pto. ayacucho.\\nmotorizados trancan la redoma autana en protesta por la falta de combustible  https://t.co/mz70qov1un - @carolinaazavach \"reporte ya\" \"reporteya\" \"red venezolana de periodismo ciudadano. dictamos talleres para el uso de redes sociales. pioneros en alfabetizacion digital.\"</td>\n",
              "      <td>0</td>\n",
              "      <td>0</td>\n",
              "      <td></td>\n",
              "    </tr>\n",
              "  </tbody>\n",
              "</table>\n",
              "</div>"
            ],
            "text/plain": [
              "0                                                                                                                                                                                      full_text  ... label_type\n",
              "10888  #26dic #amazonas #singasolina no hay gasolina en pto. ayacucho.\\nmotorizados trancan la redoma autana en protesta por la falta de combustible  https://t.co/mz70qov1un - @carolinaazavach  ...           \n",
              "\n",
              "[1 rows x 5 columns]"
            ]
          },
          "metadata": {
            "tags": []
          },
          "execution_count": 39
        }
      ]
    },
    {
      "cell_type": "code",
      "metadata": {
        "id": "JU96Ynf9O4zs",
        "colab_type": "code",
        "colab": {
          "base_uri": "https://localhost:8080/",
          "height": 130
        },
        "outputId": "282cedee-7b24-4fa5-9893-b9e1346cda84"
      },
      "source": [
        "if to_tag_df.concat_text_user_description.str.contains(ciudades, case = False) == True:\n",
        "  to_tag_df['label_state'].replace(ciudades, inplace = True)\n",
        "\n",
        "else:\n",
        "   "
      ],
      "execution_count": 49,
      "outputs": [
        {
          "output_type": "error",
          "ename": "SyntaxError",
          "evalue": "ignored",
          "traceback": [
            "\u001b[0;36m  File \u001b[0;32m\"<ipython-input-49-350908ac5320>\"\u001b[0;36m, line \u001b[0;32m5\u001b[0m\n\u001b[0;31m    \u001b[0m\n\u001b[0m    ^\u001b[0m\n\u001b[0;31mSyntaxError\u001b[0m\u001b[0;31m:\u001b[0m unexpected EOF while parsing\n"
          ]
        }
      ]
    },
    {
      "cell_type": "code",
      "metadata": {
        "id": "Asey3PtNO5Ai",
        "colab_type": "code",
        "colab": {}
      },
      "source": [
        ""
      ],
      "execution_count": 0,
      "outputs": []
    },
    {
      "cell_type": "markdown",
      "metadata": {
        "id": "blPRU9nRexos",
        "colab_type": "text"
      },
      "source": [
        ""
      ]
    }
  ]
}